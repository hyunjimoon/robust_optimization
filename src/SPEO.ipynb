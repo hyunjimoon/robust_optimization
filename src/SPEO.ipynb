{
 "cells": [
  {
   "cell_type": "code",
   "execution_count": null,
   "metadata": {},
   "outputs": [],
   "source": [
    "import sys\n",
    "import matplotlib.pyplot as plt\n",
    "import json\n",
    "import os\n",
    "import numpy as np\n",
    "import pandas as pd\n",
    "import itertools\n",
    "import cmdstanpy\n",
    "import inspect\n",
    "import jax\n",
    "from jax.experimental import optimizers\n",
    "import jax.scipy as jsc\n",
    "import jax.numpy as jnp\n",
    "import urllib\n",
    "import shutil\n",
    "from scipy.stats import norm\n",
    "from sklearn.model_selection import train_test_split\n",
    "# required install (the rest is preinstalled)\n",
    "#fast cmdstanpy install\n",
    "# #(faster than compiling from source via install_cmdstan() function)\n",
    "# tgz_file = 'colab-cmdstan-2.23.0.tar.gz'\n",
    "# tgz_url = 'https://github.com/stan-dev/cmdstan/releases/download/v2.23.0/colab-cmdstan-2.23.0.tar.gz'\n",
    "# if not os.path.exists(tgz_file):\n",
    "#     urllib.request.urlretrieve(tgz_url, tgz_file)\n",
    "#     shutil.unpack_archive(tgz_file)\n",
    "#import pybrms\n",
    "from matplotlib import pyplot as plt\n",
    "#######\n",
    "import contextPolicy #robust_optimization/src/contextPolicy.py\n",
    "from generator import sim_y_barThetax, sim_ThetaXy\n",
    "from contextPolicy import argmin_lpred, argmin_lopt_bar_argmin_lpred, argmin_lopt_emp\n",
    "from plot import train_test_w\n",
    "from loss import lopt_NV\n",
    "from sklearn.model_selection import train_test_split"
   ]
  },
  {
   "cell_type": "markdown",
   "metadata": {},
   "source": [
    "## Specified"
   ]
  },
  {
   "cell_type": "markdown",
   "metadata": {},
   "source": [
    "Assuming a normal for conditional distribution, a closed form equation exist that returns expected loss given the true parameter, predictor, and preparation amount. Two performance measures will be used $E_{Y|X}[Cost(W_{\\theta}(x), y)|X]$ and \n",
    "$E_X[E_{Y|X}[Cost(W_{\\theta}(x), y)|X]]$.\n",
    "\n",
    "E[profit]\n",
    "$P_{Y|X}^* = P_{Y|X}^{\\theta^*}$ \n",
    "$=E_{Y|X}[profit|q<D]P(q<D)+E[profit|q>=D]P(q>=D)$\n",
    "\n",
    "= $(pq-cq) * F(q) + \\int_{-\\infty}^q (px-cq)f(x)dx * (1-F(q))$\n",
    "= Expe\n",
    "\n",
    "$q = \\theta' x + \\Phi^{-1}(.8)$\n",
    "what1 \n",
    "q of N(\\theta'x, 1) distribution\n",
    "\n",
    "Given the demand has $N(\\theta'x, 1)$ distribution, \n",
    "4 * q * norm.ppf(q) + \n",
    "\n"
   ]
  },
  {
   "cell_type": "code",
   "execution_count": 45,
   "metadata": {},
   "outputs": [
    {
     "name": "stderr",
     "output_type": "stream",
     "text": [
      "INFO:cmdstanpy:found newer exe file, not recompiling\n",
      "INFO:cmdstanpy:compiled model file: /Users/hyunjimoon/GoogleDrive/Colab Notebooks/robust_optimization/src/stan/optTheta_lpred\n",
      "INFO:cmdstanpy:start chain 1\n",
      "INFO:cmdstanpy:start chain 2\n",
      "INFO:cmdstanpy:start chain 3\n",
      "INFO:cmdstanpy:start chain 4\n",
      "INFO:cmdstanpy:finish chain 4\n",
      "INFO:cmdstanpy:finish chain 3\n",
      "INFO:cmdstanpy:finish chain 2\n",
      "INFO:cmdstanpy:finish chain 1\n"
     ]
    },
    {
     "name": "stdout",
     "output_type": "stream",
     "text": [
      "loss -50.59092956190675 Thetahat2 (1.6137931034482758, 1.6)\n",
      "min_loss -49.35358486770115 Thetastar [1.5 2. ]\n",
      "Thetahat1  [2.19494069 1.25155134]\n",
      "err_w1_train -50.03717729264537\n",
      "err_w2_train -50.59092956190675\n",
      "err_w1_test_anal -53.749283704555005\n",
      "err_w2_test_anal -50.02568558725\n"
     ]
    }
   ],
   "source": [
    "train_size = 2\n",
    "X_train = X_train_ori[:train_size]\n",
    "y_w_train = y_w_train_ori[:train_size]\n",
    "y_m_train = y_m_train_ori[:train_size]\n",
    "# get_w\n",
    "train_df, test_df, Thetahat1, Thetahat2 = train_test_w(X_train, X_test, y_w_train, y_w_test, Thetastar)\n",
    "\n",
    "# compute train loss with w, theta\n",
    "err_w1_train = lopt_NV(train_df.w1, Y = y_w_train) \n",
    "err_w2_train = lopt_NV(train_df.w2, Y = y_w_train)\n",
    "train_err = train_err.append({'w1':err_w1_train, 'w2': err_w2_train} , ignore_index=True)\n",
    "print(\"err_w1_train\", err_w1_train)\n",
    "print(\"err_w2_train\", err_w2_train)\n",
    "# compute test loss with w, theta\n",
    "err_w1_test_anal = lopt_NV(test_df.w1, input_type = \"Theta\", X = X_test, Thetahat = Thetahat1) \n",
    "err_w2_test_anal = lopt_NV(test_df.w2, input_type = \"Theta\",  X = X_test, Thetahat = Thetahat2)\n",
    "print(\"err_w1_test_anal\", err_w1_test_anal)\n",
    "print(\"err_w2_test_anal\", err_w2_test_anal)"
   ]
  },
  {
   "cell_type": "code",
   "execution_count": 46,
   "metadata": {},
   "outputs": [
    {
     "name": "stderr",
     "output_type": "stream",
     "text": [
      "INFO:cmdstanpy:found newer exe file, not recompiling\n",
      "INFO:cmdstanpy:compiled model file: /Users/hyunjimoon/GoogleDrive/Colab Notebooks/robust_optimization/src/stan/optTheta_lpred\n",
      "INFO:cmdstanpy:start chain 1\n",
      "INFO:cmdstanpy:start chain 2\n",
      "INFO:cmdstanpy:start chain 3\n",
      "INFO:cmdstanpy:start chain 4\n",
      "INFO:cmdstanpy:finish chain 3\n",
      "INFO:cmdstanpy:finish chain 4\n",
      "INFO:cmdstanpy:finish chain 1\n",
      "INFO:cmdstanpy:finish chain 2\n"
     ]
    },
    {
     "name": "stdout",
     "output_type": "stream",
     "text": [
      "loss -63.47014592443132 Thetahat2 (1.7172413793103447, 2.013793103448276)\n",
      "min_loss -61.902954565149116 Thetastar [1.5 2. ]\n",
      "Thetahat1  [ 3.88678245 -0.27171914]\n"
     ]
    },
    {
     "name": "stderr",
     "output_type": "stream",
     "text": [
      "INFO:cmdstanpy:found newer exe file, not recompiling\n",
      "INFO:cmdstanpy:compiled model file: /Users/hyunjimoon/GoogleDrive/Colab Notebooks/robust_optimization/src/stan/optTheta_lpred\n",
      "INFO:cmdstanpy:start chain 1\n",
      "INFO:cmdstanpy:start chain 2\n",
      "INFO:cmdstanpy:start chain 3\n",
      "INFO:cmdstanpy:start chain 4\n"
     ]
    },
    {
     "name": "stdout",
     "output_type": "stream",
     "text": [
      "err_w1_train -63.62048158009286\n",
      "err_w2_train -63.47014592443132\n"
     ]
    },
    {
     "name": "stderr",
     "output_type": "stream",
     "text": [
      "INFO:cmdstanpy:finish chain 4\n",
      "INFO:cmdstanpy:finish chain 2\n",
      "INFO:cmdstanpy:finish chain 1\n",
      "INFO:cmdstanpy:finish chain 3\n"
     ]
    },
    {
     "name": "stdout",
     "output_type": "stream",
     "text": [
      "loss -55.954802386657775 Thetahat2 (1.7999999999999998, 1.903448275862069)\n",
      "min_loss -55.52452747174722 Thetastar [1.5 2. ]\n",
      "Thetahat1  [ 3.77722466 -0.14534126]\n"
     ]
    },
    {
     "name": "stderr",
     "output_type": "stream",
     "text": [
      "INFO:cmdstanpy:found newer exe file, not recompiling\n",
      "INFO:cmdstanpy:compiled model file: /Users/hyunjimoon/GoogleDrive/Colab Notebooks/robust_optimization/src/stan/optTheta_lpred\n",
      "INFO:cmdstanpy:start chain 1\n",
      "INFO:cmdstanpy:start chain 2\n",
      "INFO:cmdstanpy:start chain 3\n",
      "INFO:cmdstanpy:start chain 4\n",
      "INFO:cmdstanpy:finish chain 1\n",
      "INFO:cmdstanpy:finish chain 2\n",
      "INFO:cmdstanpy:finish chain 3\n",
      "INFO:cmdstanpy:finish chain 4\n"
     ]
    },
    {
     "name": "stdout",
     "output_type": "stream",
     "text": [
      "err_w1_train -56.68286286519225\n",
      "err_w2_train -55.954802386657775\n",
      "loss -52.76875121604277 Thetahat2 (1.5724137931034483, 1.7655172413793103)\n",
      "min_loss -52.58337918169762 Thetastar [1.5 2. ]\n",
      "Thetahat1  [1.49951186 1.94299705]\n"
     ]
    },
    {
     "name": "stderr",
     "output_type": "stream",
     "text": [
      "INFO:cmdstanpy:found newer exe file, not recompiling\n",
      "INFO:cmdstanpy:compiled model file: /Users/hyunjimoon/GoogleDrive/Colab Notebooks/robust_optimization/src/stan/optTheta_lpred\n",
      "INFO:cmdstanpy:start chain 1\n",
      "INFO:cmdstanpy:start chain 2\n",
      "INFO:cmdstanpy:start chain 3\n",
      "INFO:cmdstanpy:start chain 4\n",
      "INFO:cmdstanpy:finish chain 1\n",
      "INFO:cmdstanpy:finish chain 2\n",
      "INFO:cmdstanpy:finish chain 4\n",
      "INFO:cmdstanpy:finish chain 3\n"
     ]
    },
    {
     "name": "stdout",
     "output_type": "stream",
     "text": [
      "err_w1_train -52.654944534095335\n",
      "err_w2_train -52.76875121604277\n",
      "loss -53.62971905454103 Thetahat2 (1.5724137931034483, 1.7379310344827588)\n",
      "min_loss -53.312637057118806 Thetastar [1.5 2. ]\n",
      "Thetahat1  [1.59538468 1.80449569]\n"
     ]
    },
    {
     "name": "stderr",
     "output_type": "stream",
     "text": [
      "INFO:cmdstanpy:found newer exe file, not recompiling\n",
      "INFO:cmdstanpy:compiled model file: /Users/hyunjimoon/GoogleDrive/Colab Notebooks/robust_optimization/src/stan/optTheta_lpred\n",
      "INFO:cmdstanpy:start chain 1\n",
      "INFO:cmdstanpy:start chain 2\n",
      "INFO:cmdstanpy:start chain 3\n",
      "INFO:cmdstanpy:start chain 4\n"
     ]
    },
    {
     "name": "stdout",
     "output_type": "stream",
     "text": [
      "err_w1_train -53.531874868040504\n",
      "err_w2_train -53.62971905454103\n"
     ]
    },
    {
     "name": "stderr",
     "output_type": "stream",
     "text": [
      "INFO:cmdstanpy:finish chain 2\n",
      "INFO:cmdstanpy:finish chain 1\n",
      "INFO:cmdstanpy:finish chain 3\n",
      "INFO:cmdstanpy:finish chain 4\n"
     ]
    },
    {
     "name": "stdout",
     "output_type": "stream",
     "text": [
      "loss -53.53312886321947 Thetahat2 (1.4689655172413794, 1.8758620689655172)\n",
      "min_loss -53.23871829562654 Thetastar [1.5 2. ]\n",
      "Thetahat1  [1.47050684 1.95271647]\n"
     ]
    },
    {
     "name": "stderr",
     "output_type": "stream",
     "text": [
      "INFO:cmdstanpy:found newer exe file, not recompiling\n",
      "INFO:cmdstanpy:compiled model file: /Users/hyunjimoon/GoogleDrive/Colab Notebooks/robust_optimization/src/stan/optTheta_lpred\n",
      "INFO:cmdstanpy:start chain 1\n",
      "INFO:cmdstanpy:start chain 2\n",
      "INFO:cmdstanpy:start chain 3\n",
      "INFO:cmdstanpy:start chain 4\n",
      "INFO:cmdstanpy:finish chain 2\n",
      "INFO:cmdstanpy:finish chain 1\n",
      "INFO:cmdstanpy:finish chain 3\n",
      "INFO:cmdstanpy:finish chain 4\n"
     ]
    },
    {
     "name": "stdout",
     "output_type": "stream",
     "text": [
      "err_w1_train -53.430740859446914\n",
      "err_w2_train -53.53312886321946\n",
      "loss -54.891958499140344 Thetahat2 (1.2620689655172415, 2.206896551724138)\n",
      "min_loss -54.82748488205198 Thetastar [1.5 2. ]\n",
      "Thetahat1  [1.40475071 2.07339114]\n"
     ]
    },
    {
     "name": "stderr",
     "output_type": "stream",
     "text": [
      "INFO:cmdstanpy:found newer exe file, not recompiling\n",
      "INFO:cmdstanpy:compiled model file: /Users/hyunjimoon/GoogleDrive/Colab Notebooks/robust_optimization/src/stan/optTheta_lpred\n",
      "INFO:cmdstanpy:start chain 1\n",
      "INFO:cmdstanpy:start chain 2\n",
      "INFO:cmdstanpy:start chain 3\n"
     ]
    },
    {
     "name": "stdout",
     "output_type": "stream",
     "text": [
      "err_w1_train -54.86570424568505\n",
      "err_w2_train -54.891958499140344\n"
     ]
    },
    {
     "name": "stderr",
     "output_type": "stream",
     "text": [
      "INFO:cmdstanpy:start chain 4\n",
      "INFO:cmdstanpy:finish chain 1\n",
      "INFO:cmdstanpy:finish chain 3\n",
      "INFO:cmdstanpy:finish chain 4\n",
      "INFO:cmdstanpy:finish chain 2\n"
     ]
    },
    {
     "name": "stdout",
     "output_type": "stream",
     "text": [
      "loss -55.07101917400007 Thetahat2 (1.510344827586207, 2.013793103448276)\n",
      "min_loss -55.055998807529434 Thetastar [1.5 2. ]\n",
      "Thetahat1  [1.4642917  2.05517615]\n"
     ]
    },
    {
     "name": "stderr",
     "output_type": "stream",
     "text": [
      "INFO:cmdstanpy:found newer exe file, not recompiling\n",
      "INFO:cmdstanpy:compiled model file: /Users/hyunjimoon/GoogleDrive/Colab Notebooks/robust_optimization/src/stan/optTheta_lpred\n",
      "INFO:cmdstanpy:start chain 1\n",
      "INFO:cmdstanpy:start chain 2\n",
      "INFO:cmdstanpy:start chain 3\n",
      "INFO:cmdstanpy:start chain 4\n"
     ]
    },
    {
     "name": "stdout",
     "output_type": "stream",
     "text": [
      "err_w1_train -55.070629202252945\n",
      "err_w2_train -55.07101917400006\n"
     ]
    },
    {
     "name": "stderr",
     "output_type": "stream",
     "text": [
      "INFO:cmdstanpy:finish chain 1\n",
      "INFO:cmdstanpy:finish chain 2\n",
      "INFO:cmdstanpy:finish chain 4\n",
      "INFO:cmdstanpy:finish chain 3\n"
     ]
    },
    {
     "name": "stdout",
     "output_type": "stream",
     "text": [
      "loss -54.985020976141854 Thetahat2 (1.5724137931034483, 1.9586206896551723)\n",
      "min_loss -54.96660102866771 Thetastar [1.5 2. ]\n",
      "Thetahat1  [1.59936553 1.92755456]\n"
     ]
    },
    {
     "name": "stderr",
     "output_type": "stream",
     "text": [
      "INFO:cmdstanpy:found newer exe file, not recompiling\n",
      "INFO:cmdstanpy:compiled model file: /Users/hyunjimoon/GoogleDrive/Colab Notebooks/robust_optimization/src/stan/optTheta_lpred\n",
      "INFO:cmdstanpy:start chain 1\n",
      "INFO:cmdstanpy:start chain 2\n",
      "INFO:cmdstanpy:start chain 3\n",
      "INFO:cmdstanpy:start chain 4\n"
     ]
    },
    {
     "name": "stdout",
     "output_type": "stream",
     "text": [
      "err_w1_train -54.98335520685928\n",
      "err_w2_train -54.985020976141826\n"
     ]
    },
    {
     "name": "stderr",
     "output_type": "stream",
     "text": [
      "INFO:cmdstanpy:finish chain 1\n",
      "INFO:cmdstanpy:finish chain 2\n",
      "INFO:cmdstanpy:finish chain 3\n",
      "INFO:cmdstanpy:finish chain 4\n"
     ]
    },
    {
     "name": "stdout",
     "output_type": "stream",
     "text": [
      "loss -54.66312074066951 Thetahat2 (1.5310344827586206, 1.986206896551724)\n",
      "min_loss -54.657763640409385 Thetastar [1.5 2. ]\n",
      "Thetahat1  [1.52114128 1.98556271]\n"
     ]
    },
    {
     "name": "stderr",
     "output_type": "stream",
     "text": [
      "INFO:cmdstanpy:found newer exe file, not recompiling\n",
      "INFO:cmdstanpy:compiled model file: /Users/hyunjimoon/GoogleDrive/Colab Notebooks/robust_optimization/src/stan/optTheta_lpred\n",
      "INFO:cmdstanpy:start chain 1\n",
      "INFO:cmdstanpy:start chain 2\n",
      "INFO:cmdstanpy:start chain 3\n",
      "INFO:cmdstanpy:start chain 4\n"
     ]
    },
    {
     "name": "stdout",
     "output_type": "stream",
     "text": [
      "err_w1_train -54.660540533801004\n",
      "err_w2_train -54.663120740669484\n"
     ]
    },
    {
     "name": "stderr",
     "output_type": "stream",
     "text": [
      "INFO:cmdstanpy:finish chain 4\n",
      "INFO:cmdstanpy:finish chain 2\n",
      "INFO:cmdstanpy:finish chain 1\n",
      "INFO:cmdstanpy:finish chain 3\n"
     ]
    },
    {
     "name": "stdout",
     "output_type": "stream",
     "text": [
      "loss -54.46721810152439 Thetahat2 (1.4689655172413794, 2.0413793103448277)\n",
      "min_loss -54.46554021220206 Thetastar [1.5 2. ]\n",
      "Thetahat1  [1.47365962 2.02591657]\n",
      "err_w1_train -54.46589036080728\n",
      "err_w2_train -54.467218101524345\n"
     ]
    },
    {
     "data": {
      "text/plain": [
       "<AxesSubplot:xlabel='log2(trainsize)', ylabel='loss'>"
      ]
     },
     "execution_count": 46,
     "metadata": {},
     "output_type": "execute_result"
    },
    {
     "data": {
      "image/png": "[encoded data removed]",
      "text/plain": [
       "<Figure size 1080x648 with 1 Axes>"
      ]
     },
     "metadata": {
      "needs_background": "light"
     },
     "output_type": "display_data"
    }
   ],
   "source": [
    "test_size = 100000\n",
    "train_size  = 1024\n",
    "# 1. plot for train, test loss for increasing trainset\n",
    "train_err = pd.DataFrame()\n",
    "test_err = pd.DataFrame()\n",
    "train_err_m = pd.DataFrame()\n",
    "test_err_m = pd.DataFrame()\n",
    "X, ys, Thetastar = sim_ThetaXy(n_gen= train_size + test_size, sigma_y = 1)\n",
    "X_train_ori, X_test, y_w_train_ori, y_w_test = train_test_split(X, ys[0], train_size = 1024)\n",
    "_, _, y_m_train_ori, y_m_test = train_test_split(X, ys[1], train_size = 1024)\n",
    "for train_size in np.power(2, [i for i in range(1,11)]):\n",
    "    # well-specified has closed form but using simulated\n",
    "    X_train = X_train_ori[:train_size]\n",
    "    y_w_train = y_w_train_ori[:train_size]\n",
    "    y_m_train = y_m_train_ori[:train_size]\n",
    "    # get_w\n",
    "    train_df, test_df, Thetahat1, Thetahat2 = train_test_w(X_train, X_test, y_w_train, y_w_test, Thetastar)\n",
    "    \n",
    "    # compute train loss with w, theta\n",
    "    err_w1_train = lopt_NV(train_df.w1, Y = y_w_train) \n",
    "    err_w2_train = lopt_NV(train_df.w2, Y = y_w_train)\n",
    "    train_err = train_err.append({'w1':err_w1_train, 'w2': err_w2_train} , ignore_index=True)\n",
    "    print(\"err_w1_train\", err_w1_train)\n",
    "    print(\"err_w2_train\", err_w2_train)\n",
    "    # compute test loss with w, theta\n",
    "    err_w1_test_anal = lopt_NV(test_df.w1, input_type = \"Theta\", X = X_test, Thetahat = Thetahat1) \n",
    "    err_w2_test_anal = lopt_NV(test_df.w2, input_type = \"Theta\",  X = X_test, Thetahat = Thetahat2)\n",
    "    test_err = test_err.append({'w1_anal':err_w1_test_anal, 'w2_anal': err_w2_test_anal, 'w1_sim':err_w1_test_sim, 'w2_sim': err_w2_test_sim}, ignore_index=True)\n",
    "    \n",
    "err= train_err.copy()\n",
    "\n",
    "err[\"w1_test_anal\"] = test_err.w1_anal\n",
    "err[\"w2_test_anal\"] = test_err.w2_anal\n",
    "err.plot(xlim = [1, 10], figsize = (15, 9), xlabel = \"log2(trainsize)\", ylabel = \"loss\")\n"
   ]
  },
  {
   "cell_type": "markdown",
   "metadata": {},
   "source": [
    "# questions\n",
    "#### Implementation\n",
    "## policy.py \n",
    "`argmin_l_pred's MClass`\n",
    "1. Can you give me some example of model class other than linear? \n",
    "2. Unlike Adam's previous comment on $y \\sim N(\\theta' X'X, 1)$ `quad` could be elementwise power $X^2 (n*p)$? (vs $X'X (p*p)$)\n",
    "3. How to improve grid search of theta in approach2?\n",
    "\n",
    "#### Experiment design\n",
    "1.  What setting could make approach 2 outperform for distribution misspecification like it does in degree of predictor misspecification? Is this misspecification type needed?\n",
    "\n",
    "#### Theory\n",
    "1. Could approach1 also be thought as empirical risk minization? As the solution depends on the dataset (x_i, y_i) at $\\theta_1$ estimation level, I think it could be. Is this is why you used $\\hat{w}$, not $w*$, Henry?\n",
    "2. Is it awkward to express the cost funciton as $l_{opt}$? Thought the input is w, y underneath, it could be implicitly rearranged as function of $\\hat{\\theta}, \\theta$.\n",
    "3. Does having a feature related to parameteric optimization?\n",
    "4. $H_\\theta := P_\\theta()$ is this notation correct?\n",
    "5. Is Remark2 (P(.) combinatorial/MIP) from SPO paper applicable for approach2? \n",
    "$w^{∗}(c) \\in \\underset{w \\in \\tilde{S}}{argmin} l_{opt}(w, y)⊆ \\underset{w \\in S}{argmin} l_{opt}(w, y)$ where S, $\\tilde{S}$ are feasible set and its closed convex hull."
   ]
  }
 ],
 "metadata": {
  "colab": {
   "authorship_tag": "ABX9TyM2TZV3D5nrOT6SkMCknb0D",
   "collapsed_sections": [],
   "machine_shape": "hm",
   "name": "SPEO.ipynb",
   "provenance": [
    {
     "file_id": "https://github.com/hyunjimoon/robust_optimization/blob/master/SPEO.ipynb",
     "timestamp": 1630795415181
    }
   ],
   "toc_visible": true
  },
  "kernelspec": {
   "display_name": "Python 3 (ipykernel)",
   "language": "python",
   "name": "python3"
  },
  "language_info": {
   "codemirror_mode": {
    "name": "ipython",
    "version": 3
   },
   "file_extension": ".py",
   "mimetype": "text/x-python",
   "name": "python",
   "nbconvert_exporter": "python",
   "pygments_lexer": "ipython3",
   "version": "3.9.0"
  }
 },
 "nbformat": 4,
 "nbformat_minor": 4
}
