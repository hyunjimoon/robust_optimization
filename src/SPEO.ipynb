{
  "nbformat": 4,
  "nbformat_minor": 0,
  "metadata": {
    "colab": {
      "name": "SPEO.ipynb",
      "provenance": [],
      "collapsed_sections": [],
      "machine_shape": "hm",
      "authorship_tag": "ABX9TyMIQK2BH7VR7Gl8yLzJM6B6",
      "include_colab_link": true
    },
    "kernelspec": {
      "name": "python3",
      "display_name": "Python 3"
    },
    "language_info": {
      "name": "python"
    }
  },
  "cells": [
    {
      "cell_type": "markdown",
      "metadata": {
        "id": "view-in-github",
        "colab_type": "text"
      },
      "source": [
        "<a href=\"https://colab.research.google.com/github/hyunjimoon/robust_optimization/blob/master/src/SPEO.ipynb\" target=\"_parent\"><img src=\"https://colab.research.google.com/assets/colab-badge.svg\" alt=\"Open In Colab\"/></a>"
      ]
    },
    {
      "cell_type": "markdown",
      "metadata": {
        "id": "kEVGwLDedmDP"
      },
      "source": [
        "# questions\n",
        "#### Implementation\n",
        "## policy.py \n",
        "`argmin_l_pred's MClass`\n",
        "1. Can you give me some example of model class other than linear? \n",
        "2. Unlike Adam's previous comment on $y \\sim N(\\theta' X'X, 1)$ `quad` could be elementwise power $X^2 (n*p)$? (vs $X'X (p*p)$)\n",
        "3. How to improve grid search of theta in approach2?\n",
        "\n",
        "#### Experiment design\n",
        "1. Is misspecification type2 needed? What advantage would approach 2 have?\n",
        "\n",
        "#### Theory\n",
        "1. Could approach1 also be thought as empirical risk minization? As the solution depends on the dataset (x_i, y_i) at $\\theta_1$ estimation level, I think it could be. Is this is why you used $\\hat{w}$, not $w*$, Henry?\n",
        "2. Is it awkward to express the cost funciton as $l_{opt}$? Thought the input is w, y underneath, it could be implicitly rearranged as function of $\\hat{\\theta}, \\theta$.\n",
        "3. Does having a feature related to parameteric optimization?\n",
        "4. $H_\\theta := P_\\theta()$ is this notation correct?\n",
        "5. Is Remark2 (P(.) combinatorial/MIP) from SPO paper applicable for approach2? \n",
        "$w^{∗}(c) \\in \\underset{w \\in \\tilde{S}}{argmin} l_{opt}(w, y)⊆ \\underset{w \\in S}{argmin} l_{opt}(w, y)$ where S, $\\tilde{S}$ are feasible set and its closed convex hull."
      ]
    },
    {
      "cell_type": "code",
      "metadata": {
        "colab": {
          "base_uri": "https://localhost:8080/"
        },
        "id": "AvAg3WNDnw_j",
        "outputId": "936229a9-8928-48fa-fb14-21331b038817"
      },
      "source": [
        "# allow R\n",
        "%load_ext rpy2.ipython\n",
        "# test RAM\n",
        "from psutil import virtual_memory\n",
        "ram_gb = virtual_memory().total / 1e9\n",
        "print('Your runtime has {:.1f} gigabytes of available RAM\\n'.format(ram_gb))\n",
        "if ram_gb < 20:\n",
        "  print('Not using a high-RAM runtime')\n",
        "else:\n",
        "  print('You are using a high-RAM runtime!')\n",
        "# mount drive\n",
        "#RERUN THIS CELL ARTER .py EDIT!)\n",
        "from google.colab import drive\n",
        "drive.mount('/content/drive', force_remount=True)\n",
        "\n",
        "# required install (the rest is preinstalled)\n",
        "!pip install cmdstanpy==0.9.77\n",
        "#fast cmdstanpy install\n",
        "# (faster than compiling from source via install_cmdstan() function)\n",
        "# tgz_file = 'colab-cmdstan-2.23.0.tar.gz'\n",
        "# tgz_url = 'https://github.com/stan-dev/cmdstan/releases/download/v2.23.0/colab-cmdstan-2.23.0.tar.gz'\n",
        "# if not os.path.exists(tgz_file):\n",
        "#     urllib.request.urlretrieve(tgz_url, tgz_file)\n",
        "#     shutil.unpack_archive(tgz_file)\n",
        "\n",
        "import sys\n",
        "import matplotlib.pyplot as plt\n",
        "import json\n",
        "import os\n",
        "import numpy as np\n",
        "import pandas as pd\n",
        "import itertools\n",
        "import cmdstanpy\n",
        "from matplotlib import pyplot as plt\n",
        "sys.path.append('/content/drive/MyDrive/Colab Notebooks/robust_optimization/src')"
      ],
      "execution_count": 1,
      "outputs": [
        {
          "output_type": "stream",
          "name": "stdout",
          "text": [
            "Your runtime has 27.3 gigabytes of available RAM\n",
            "\n",
            "You are using a high-RAM runtime!\n",
            "Mounted at /content/drive\n",
            "Requirement already satisfied: cmdstanpy==0.9.77 in /usr/local/lib/python3.7/dist-packages (0.9.77)\n",
            "Requirement already satisfied: pandas in /usr/local/lib/python3.7/dist-packages (from cmdstanpy==0.9.77) (1.1.5)\n",
            "Requirement already satisfied: ujson in /usr/local/lib/python3.7/dist-packages (from cmdstanpy==0.9.77) (4.1.0)\n",
            "Requirement already satisfied: numpy!=1.19.4,>=1.15 in /usr/local/lib/python3.7/dist-packages (from cmdstanpy==0.9.77) (1.19.5)\n",
            "Requirement already satisfied: pytz>=2017.2 in /usr/local/lib/python3.7/dist-packages (from pandas->cmdstanpy==0.9.77) (2018.9)\n",
            "Requirement already satisfied: python-dateutil>=2.7.3 in /usr/local/lib/python3.7/dist-packages (from pandas->cmdstanpy==0.9.77) (2.8.2)\n",
            "Requirement already satisfied: six>=1.5 in /usr/local/lib/python3.7/dist-packages (from python-dateutil>=2.7.3->pandas->cmdstanpy==0.9.77) (1.15.0)\n"
          ]
        }
      ]
    },
    {
      "cell_type": "code",
      "metadata": {
        "id": "mM4VZco0rXi8"
      },
      "source": [
        "# newly implemented in src/python\n",
        "from generator import generator, normal_dist, unif_dist\n",
        "from policy import argmin_lopt_gen, argmin_lopt_bar_argmin_lpred, argmin_lopt_emp, argmin_lpred\n",
        "from loss import lopt_NV"
      ],
      "execution_count": 10,
      "outputs": []
    },
    {
      "cell_type": "markdown",
      "metadata": {
        "id": "f4j3JLA9sZuI"
      },
      "source": [
        "Two misspecification types on degree and distribution.\n",
        "```\n",
        "def generator(theta_star, sigma_x, sigma_y, degree, dist, n):\n",
        "    '''\n",
        "    Generate data of 1.ground truth (deg=1, norm_dist), 2.(deg>1, norm_dist), \n",
        "                     3.(deg = 1, !norm_dist), 3.(deg > 1, !norm_dist)\n",
        "\n",
        "    Parameters:\n",
        "        array theta_star: true parameter value\n",
        "        array sigma_x: array of length p, is the variance of each feature vector dimension, i.e. x_i ~ N(0, sigma_p)\n",
        "        float sigma_y: noise of outcome sampled as N(y_true, sigma_y)\n",
        "        int degree: `y_ture|x` str.  #MISSPEC1 degree 1 vs >1\n",
        "                    y_true = x-linear if degree =1, polynomial degree prop.to amount of model misspecification\n",
        "        chr dist: `y|y_ture` str. #MISSPEC2 normal_dist vs unif_dist, t_dist, gamma_dist, (TODO mm_dist)\n",
        "        int n: number of data points to generate\n",
        "        # x \\sim N(0, sigma_x)\n",
        "        # y|x \\sim N(y_true, sigma_y)\n",
        "        # (x,y) \\sim Normal(??)\n",
        "    Returns:\n",
        "        np.array X: predictor data of dimension [n, p]\n",
        "        np.array y: outcome data of dimension [n, 1] = (1,p) * (p, n)\n",
        "    '''\n",
        "    # metadata\n",
        "    p = len(theta_star)\n",
        "    # Generate predictor: iid MVN with each ith col. predictors share `sigma_x[i]`\n",
        "    X = np.random.normal(loc = 0, scale = sigma_x, size = [n, p]) # each row is a training point of size p\n",
        "    def normal_dist(mu,sd, n):\n",
        "      return np.random.normal(mu, sd, size = n)\n",
        "    def unif_dist(mu, sd, n):\n",
        "      return np.random.uniform(mu - np.sqrt(3)*sd, mu + np.sqrt(3)*sd, n)\n",
        "    if dist == 'unif':\n",
        "      ys = [P(theta_star @ np.power(X, d).T, np.repeat(sigma_y, n), n) for P in (normal_dist, unif_dist) for d in (1, degree)]\n",
        "    return X, ys\n",
        "\n",
        "```"
      ]
    },
    {
      "cell_type": "code",
      "metadata": {
        "id": "9eo1hL-87qUo"
      },
      "source": [
        "# metadata\n",
        "np.random.seed(1)\n",
        "MClass = \"lin\"\n",
        "p, c, s = 5, 1, 0\n",
        "n = 100\n",
        "p = 2\n",
        "sigma_x = [1, 1]\n",
        "sigma_y = .1\n",
        "theta_star = np.repeat(2, p)\n",
        "\n",
        "X, ys  = generator(theta_star, sigma_x, sigma_y, 3, 'unif', n)\n",
        "df = pd.DataFrame(ys).transpose()\n",
        "df.columns = ['yw','ym1','ym2','ym12']\n",
        "df['X1'] = X[:,0]\n",
        "df['X2'] = X[:,1]\n"
      ],
      "execution_count": 3,
      "outputs": []
    },
    {
      "cell_type": "code",
      "metadata": {
        "colab": {
          "base_uri": "https://localhost:8080/",
          "height": 424
        },
        "id": "a3tCSMHF7Q0U",
        "outputId": "7f9126ca-137f-45d4-fe1c-43fe725b3f52"
      },
      "source": [
        "df"
      ],
      "execution_count": 4,
      "outputs": [
        {
          "output_type": "execute_result",
          "data": {
            "text/html": [
              "<div>\n",
              "<style scoped>\n",
              "    .dataframe tbody tr th:only-of-type {\n",
              "        vertical-align: middle;\n",
              "    }\n",
              "\n",
              "    .dataframe tbody tr th {\n",
              "        vertical-align: top;\n",
              "    }\n",
              "\n",
              "    .dataframe thead th {\n",
              "        text-align: right;\n",
              "    }\n",
              "</style>\n",
              "<table border=\"1\" class=\"dataframe\">\n",
              "  <thead>\n",
              "    <tr style=\"text-align: right;\">\n",
              "      <th></th>\n",
              "      <th>yw</th>\n",
              "      <th>ym1</th>\n",
              "      <th>ym2</th>\n",
              "      <th>ym12</th>\n",
              "      <th>X1</th>\n",
              "      <th>X2</th>\n",
              "    </tr>\n",
              "  </thead>\n",
              "  <tbody>\n",
              "    <tr>\n",
              "      <th>0</th>\n",
              "      <td>1.985090</td>\n",
              "      <td>8.320347</td>\n",
              "      <td>2.031765</td>\n",
              "      <td>7.995932</td>\n",
              "      <td>1.624345</td>\n",
              "      <td>-0.611756</td>\n",
              "    </tr>\n",
              "    <tr>\n",
              "      <th>1</th>\n",
              "      <td>-3.119880</td>\n",
              "      <td>-2.912334</td>\n",
              "      <td>-3.314961</td>\n",
              "      <td>-2.868240</td>\n",
              "      <td>-0.528172</td>\n",
              "      <td>-1.072969</td>\n",
              "    </tr>\n",
              "    <tr>\n",
              "      <th>2</th>\n",
              "      <td>-2.928493</td>\n",
              "      <td>-23.169628</td>\n",
              "      <td>-2.847765</td>\n",
              "      <td>-23.110450</td>\n",
              "      <td>0.865408</td>\n",
              "      <td>-2.301539</td>\n",
              "    </tr>\n",
              "    <tr>\n",
              "      <th>3</th>\n",
              "      <td>2.162698</td>\n",
              "      <td>9.653499</td>\n",
              "      <td>2.139290</td>\n",
              "      <td>9.708372</td>\n",
              "      <td>1.744812</td>\n",
              "      <td>-0.761207</td>\n",
              "    </tr>\n",
              "    <tr>\n",
              "      <th>4</th>\n",
              "      <td>0.006142</td>\n",
              "      <td>0.006023</td>\n",
              "      <td>0.249092</td>\n",
              "      <td>-0.088436</td>\n",
              "      <td>0.319039</td>\n",
              "      <td>-0.249370</td>\n",
              "    </tr>\n",
              "    <tr>\n",
              "      <th>...</th>\n",
              "      <td>...</td>\n",
              "      <td>...</td>\n",
              "      <td>...</td>\n",
              "      <td>...</td>\n",
              "      <td>...</td>\n",
              "      <td>...</td>\n",
              "    </tr>\n",
              "    <tr>\n",
              "      <th>95</th>\n",
              "      <td>3.029926</td>\n",
              "      <td>3.304869</td>\n",
              "      <td>3.206352</td>\n",
              "      <td>3.214070</td>\n",
              "      <td>1.160339</td>\n",
              "      <td>0.369493</td>\n",
              "    </tr>\n",
              "    <tr>\n",
              "      <th>96</th>\n",
              "      <td>6.073161</td>\n",
              "      <td>16.374920</td>\n",
              "      <td>6.102809</td>\n",
              "      <td>16.498069</td>\n",
              "      <td>1.904659</td>\n",
              "      <td>1.111057</td>\n",
              "    </tr>\n",
              "    <tr>\n",
              "      <th>97</th>\n",
              "      <td>-1.858300</td>\n",
              "      <td>-7.956148</td>\n",
              "      <td>-1.944387</td>\n",
              "      <td>-8.004266</td>\n",
              "      <td>0.659050</td>\n",
              "      <td>-1.627438</td>\n",
              "    </tr>\n",
              "    <tr>\n",
              "      <th>98</th>\n",
              "      <td>1.949660</td>\n",
              "      <td>0.581967</td>\n",
              "      <td>1.915718</td>\n",
              "      <td>0.716225</td>\n",
              "      <td>0.602319</td>\n",
              "      <td>0.420282</td>\n",
              "    </tr>\n",
              "    <tr>\n",
              "      <th>99</th>\n",
              "      <td>3.769379</td>\n",
              "      <td>3.556372</td>\n",
              "      <td>3.875694</td>\n",
              "      <td>3.327190</td>\n",
              "      <td>0.810952</td>\n",
              "      <td>1.044442</td>\n",
              "    </tr>\n",
              "  </tbody>\n",
              "</table>\n",
              "<p>100 rows × 6 columns</p>\n",
              "</div>"
            ],
            "text/plain": [
              "          yw        ym1       ym2       ym12        X1        X2\n",
              "0   1.985090   8.320347  2.031765   7.995932  1.624345 -0.611756\n",
              "1  -3.119880  -2.912334 -3.314961  -2.868240 -0.528172 -1.072969\n",
              "2  -2.928493 -23.169628 -2.847765 -23.110450  0.865408 -2.301539\n",
              "3   2.162698   9.653499  2.139290   9.708372  1.744812 -0.761207\n",
              "4   0.006142   0.006023  0.249092  -0.088436  0.319039 -0.249370\n",
              "..       ...        ...       ...        ...       ...       ...\n",
              "95  3.029926   3.304869  3.206352   3.214070  1.160339  0.369493\n",
              "96  6.073161  16.374920  6.102809  16.498069  1.904659  1.111057\n",
              "97 -1.858300  -7.956148 -1.944387  -8.004266  0.659050 -1.627438\n",
              "98  1.949660   0.581967  1.915718   0.716225  0.602319  0.420282\n",
              "99  3.769379   3.556372  3.875694   3.327190  0.810952  1.044442\n",
              "\n",
              "[100 rows x 6 columns]"
            ]
          },
          "metadata": {},
          "execution_count": 4
        }
      ]
    },
    {
      "cell_type": "code",
      "metadata": {
        "colab": {
          "base_uri": "https://localhost:8080/",
          "height": 300
        },
        "id": "xody3Yo2y2jT",
        "outputId": "71ae9016-6fc8-456d-ebd9-8e4e4d4182f9"
      },
      "source": [
        "plt.plot(df.iloc[:,[0,1]])"
      ],
      "execution_count": 5,
      "outputs": [
        {
          "output_type": "execute_result",
          "data": {
            "text/plain": [
              "[<matplotlib.lines.Line2D at 0x7f450c0ba650>,\n",
              " <matplotlib.lines.Line2D at 0x7f450c076650>]"
            ]
          },
          "metadata": {},
          "execution_count": 5
        },
        {
          "output_type": "display_data",
          "data": {
            "image/png": "[encoded data removed]",
            "text/plain": [
              "<Figure size 432x288 with 1 Axes>"
            ]
          },
          "metadata": {
            "needs_background": "light"
          }
        }
      ]
    },
    {
      "cell_type": "code",
      "metadata": {
        "colab": {
          "base_uri": "https://localhost:8080/",
          "height": 300
        },
        "id": "7HnpTMtnoVgK",
        "outputId": "1cb06be0-256a-4184-9597-1860869101b2"
      },
      "source": [
        "# negligible bc sigma_y is small (.1)\n",
        "plt.plot(df.iloc[:,[0,2]])"
      ],
      "execution_count": 6,
      "outputs": [
        {
          "output_type": "execute_result",
          "data": {
            "text/plain": [
              "[<matplotlib.lines.Line2D at 0x7f450bbd58d0>,\n",
              " <matplotlib.lines.Line2D at 0x7f450bbd5ad0>]"
            ]
          },
          "metadata": {},
          "execution_count": 6
        },
        {
          "output_type": "display_data",
          "data": {
            "image/png": "[encoded data removed]",
            "text/plain": [
              "<Figure size 432x288 with 1 Axes>"
            ]
          },
          "metadata": {
            "needs_background": "light"
          }
        }
      ]
    },
    {
      "cell_type": "code",
      "metadata": {
        "colab": {
          "base_uri": "https://localhost:8080/",
          "height": 300
        },
        "id": "-x2ehxq5mkt9",
        "outputId": "22066a69-afa2-4d07-b2f1-49f9c450090f"
      },
      "source": [
        "sigma_y = 10\n",
        "X2, ys2  = generator(theta_star, sigma_x, sigma_y, 3, 'unif', 100)\n",
        "df2 = pd.DataFrame(ys2).transpose()\n",
        "plt.plot(df2.iloc[:,[0,2]])"
      ],
      "execution_count": 7,
      "outputs": [
        {
          "output_type": "execute_result",
          "data": {
            "text/plain": [
              "[<matplotlib.lines.Line2D at 0x7f450bb4a750>,\n",
              " <matplotlib.lines.Line2D at 0x7f450bb53dd0>]"
            ]
          },
          "metadata": {},
          "execution_count": 7
        },
        {
          "output_type": "display_data",
          "data": {
            "image/png": "[encoded data removed]",
            "text/plain": [
              "<Figure size 432x288 with 1 Axes>"
            ]
          },
          "metadata": {
            "needs_background": "light"
          }
        }
      ]
    },
    {
      "cell_type": "code",
      "metadata": {
        "id": "qZM3SI3NzvBi"
      },
      "source": [
        "def P_ybarx(theta, x, n_gen = 10):\n",
        "  return np.random.normal(loc = theta @ x, scale = 1, size = n_gen)\n",
        "yw = np.array(df.yw)  \n",
        "df['what1']= argmin_lopt_bar_argmin_lpred(MClass, P_ybarx, yw, X) #MClass = \"lin\"\n",
        "df['what2']= argmin_lopt_emp(P_ybarx, yw, X)\n",
        "\n",
        "#Future work!\n",
        "# df['what1_m']= argmin_lopt_bar_argmin_lpred(MClass, P_ybarx, yw, X) #MClass = \"lin\"\n",
        "# df['what2_m']= argmin_lopt_emp(P_ybarx, ym, X)"
      ],
      "execution_count": null,
      "outputs": []
    },
    {
      "cell_type": "code",
      "metadata": {
        "colab": {
          "base_uri": "https://localhost:8080/",
          "height": 424
        },
        "id": "EGwG7g_gzgwR",
        "outputId": "951556b8-a0e8-43fe-be07-7bc0cbf622e3"
      },
      "source": [
        "df"
      ],
      "execution_count": 57,
      "outputs": [
        {
          "output_type": "execute_result",
          "data": {
            "text/html": [
              "<div>\n",
              "<style scoped>\n",
              "    .dataframe tbody tr th:only-of-type {\n",
              "        vertical-align: middle;\n",
              "    }\n",
              "\n",
              "    .dataframe tbody tr th {\n",
              "        vertical-align: top;\n",
              "    }\n",
              "\n",
              "    .dataframe thead th {\n",
              "        text-align: right;\n",
              "    }\n",
              "</style>\n",
              "<table border=\"1\" class=\"dataframe\">\n",
              "  <thead>\n",
              "    <tr style=\"text-align: right;\">\n",
              "      <th></th>\n",
              "      <th>yw</th>\n",
              "      <th>ym1</th>\n",
              "      <th>ym2</th>\n",
              "      <th>ym12</th>\n",
              "      <th>X1</th>\n",
              "      <th>X2</th>\n",
              "      <th>what1</th>\n",
              "      <th>what2</th>\n",
              "    </tr>\n",
              "  </thead>\n",
              "  <tbody>\n",
              "    <tr>\n",
              "      <th>0</th>\n",
              "      <td>1.985090</td>\n",
              "      <td>8.320347</td>\n",
              "      <td>2.031765</td>\n",
              "      <td>7.995932</td>\n",
              "      <td>1.624345</td>\n",
              "      <td>-0.611756</td>\n",
              "      <td>3.08738</td>\n",
              "      <td>3.10749</td>\n",
              "    </tr>\n",
              "    <tr>\n",
              "      <th>1</th>\n",
              "      <td>-3.119880</td>\n",
              "      <td>-2.912334</td>\n",
              "      <td>-3.314961</td>\n",
              "      <td>-2.868240</td>\n",
              "      <td>-0.528172</td>\n",
              "      <td>-1.072969</td>\n",
              "      <td>-2.84184</td>\n",
              "      <td>-3.98296</td>\n",
              "    </tr>\n",
              "    <tr>\n",
              "      <th>2</th>\n",
              "      <td>-2.928493</td>\n",
              "      <td>-23.169628</td>\n",
              "      <td>-2.847765</td>\n",
              "      <td>-23.110450</td>\n",
              "      <td>0.865408</td>\n",
              "      <td>-2.301539</td>\n",
              "      <td>-2.33333</td>\n",
              "      <td>-2.20410</td>\n",
              "    </tr>\n",
              "    <tr>\n",
              "      <th>3</th>\n",
              "      <td>2.162698</td>\n",
              "      <td>9.653499</td>\n",
              "      <td>2.139290</td>\n",
              "      <td>9.708372</td>\n",
              "      <td>1.744812</td>\n",
              "      <td>-0.761207</td>\n",
              "      <td>2.56505</td>\n",
              "      <td>2.96988</td>\n",
              "    </tr>\n",
              "    <tr>\n",
              "      <th>4</th>\n",
              "      <td>0.006142</td>\n",
              "      <td>0.006023</td>\n",
              "      <td>0.249092</td>\n",
              "      <td>-0.088436</td>\n",
              "      <td>0.319039</td>\n",
              "      <td>-0.249370</td>\n",
              "      <td>0.94508</td>\n",
              "      <td>1.05078</td>\n",
              "    </tr>\n",
              "    <tr>\n",
              "      <th>...</th>\n",
              "      <td>...</td>\n",
              "      <td>...</td>\n",
              "      <td>...</td>\n",
              "      <td>...</td>\n",
              "      <td>...</td>\n",
              "      <td>...</td>\n",
              "      <td>...</td>\n",
              "      <td>...</td>\n",
              "    </tr>\n",
              "    <tr>\n",
              "      <th>95</th>\n",
              "      <td>3.029926</td>\n",
              "      <td>3.304869</td>\n",
              "      <td>3.206352</td>\n",
              "      <td>3.214070</td>\n",
              "      <td>1.160339</td>\n",
              "      <td>0.369493</td>\n",
              "      <td>4.30566</td>\n",
              "      <td>5.09610</td>\n",
              "    </tr>\n",
              "    <tr>\n",
              "      <th>96</th>\n",
              "      <td>6.073161</td>\n",
              "      <td>16.374920</td>\n",
              "      <td>6.102809</td>\n",
              "      <td>16.498069</td>\n",
              "      <td>1.904659</td>\n",
              "      <td>1.111057</td>\n",
              "      <td>7.02934</td>\n",
              "      <td>8.01060</td>\n",
              "    </tr>\n",
              "    <tr>\n",
              "      <th>97</th>\n",
              "      <td>-1.858300</td>\n",
              "      <td>-7.956148</td>\n",
              "      <td>-1.944387</td>\n",
              "      <td>-8.004266</td>\n",
              "      <td>0.659050</td>\n",
              "      <td>-1.627438</td>\n",
              "      <td>-1.64655</td>\n",
              "      <td>-1.56307</td>\n",
              "    </tr>\n",
              "    <tr>\n",
              "      <th>98</th>\n",
              "      <td>1.949660</td>\n",
              "      <td>0.581967</td>\n",
              "      <td>1.915718</td>\n",
              "      <td>0.716225</td>\n",
              "      <td>0.602319</td>\n",
              "      <td>0.420282</td>\n",
              "      <td>3.58180</td>\n",
              "      <td>3.10389</td>\n",
              "    </tr>\n",
              "    <tr>\n",
              "      <th>99</th>\n",
              "      <td>3.769379</td>\n",
              "      <td>3.556372</td>\n",
              "      <td>3.875694</td>\n",
              "      <td>3.327190</td>\n",
              "      <td>0.810952</td>\n",
              "      <td>1.044442</td>\n",
              "      <td>4.49544</td>\n",
              "      <td>6.08075</td>\n",
              "    </tr>\n",
              "  </tbody>\n",
              "</table>\n",
              "<p>100 rows × 8 columns</p>\n",
              "</div>"
            ],
            "text/plain": [
              "          yw        ym1       ym2  ...        X2    what1    what2\n",
              "0   1.985090   8.320347  2.031765  ... -0.611756  3.08738  3.10749\n",
              "1  -3.119880  -2.912334 -3.314961  ... -1.072969 -2.84184 -3.98296\n",
              "2  -2.928493 -23.169628 -2.847765  ... -2.301539 -2.33333 -2.20410\n",
              "3   2.162698   9.653499  2.139290  ... -0.761207  2.56505  2.96988\n",
              "4   0.006142   0.006023  0.249092  ... -0.249370  0.94508  1.05078\n",
              "..       ...        ...       ...  ...       ...      ...      ...\n",
              "95  3.029926   3.304869  3.206352  ...  0.369493  4.30566  5.09610\n",
              "96  6.073161  16.374920  6.102809  ...  1.111057  7.02934  8.01060\n",
              "97 -1.858300  -7.956148 -1.944387  ... -1.627438 -1.64655 -1.56307\n",
              "98  1.949660   0.581967  1.915718  ...  0.420282  3.58180  3.10389\n",
              "99  3.769379   3.556372  3.875694  ...  1.044442  4.49544  6.08075\n",
              "\n",
              "[100 rows x 8 columns]"
            ]
          },
          "metadata": {},
          "execution_count": 57
        }
      ]
    },
    {
      "cell_type": "markdown",
      "metadata": {
        "id": "0Hqups6z5NRE"
      },
      "source": [
        "```\n",
        "def lopt_NV(w, y, profit, cost):\n",
        "    '''\n",
        "    Compute optimization loss (a.k.a cost function)\n",
        "    Parameters:\n",
        "        real w: decision e.g. inventory amount\n",
        "        real y: outcome e.g. demand\n",
        "        real profit\n",
        "        real cost\n",
        "    Returns:\n",
        "        real: objective value, $l_opt(W(thetahat, X), y)$\n",
        "    '''\n",
        "    return - (profit * min(w, y) - cost * w)\n",
        "  ```"
      ]
    },
    {
      "cell_type": "code",
      "metadata": {
        "colab": {
          "base_uri": "https://localhost:8080/"
        },
        "id": "FCkNpz-MtBN0",
        "outputId": "ce0ab458-d01a-488d-8c5f-b0d994e0e637"
      },
      "source": [
        "print(np.mean([- (profit * min(w, y) - cost * w) for w, y in zip(df.yw, df.what1)]))\n",
        "print(np.mean([- (profit * min(w, y) - cost * w) for w, y in zip(df.yw, df.what2)]))\n",
        "#-0.42443076171522115\n",
        "#-0.32726932281156307"
      ],
      "execution_count": 97,
      "outputs": [
        {
          "output_type": "stream",
          "name": "stdout",
          "text": [
            "-0.42443076171522115\n",
            "-0.32726932281156307\n"
          ]
        }
      ]
    },
    {
      "cell_type": "markdown",
      "metadata": {
        "id": "yYL3lRuH8qwC"
      },
      "source": [
        "Approach1 is better when well-specified."
      ]
    },
    {
      "cell_type": "markdown",
      "metadata": {
        "id": "n7cKwS665uHC"
      },
      "source": [
        "## Misspecified\n",
        "True dgp is nonlinear but the model class and P_ybarx is linear.\n",
        "use ym1 generated with degree > 1 of x.\n",
        "Approach2 is better when degree is missepcified. Note that current $\\theta$ search for approach 2 is nonoptimal as the grid search range and step is limited from 1 to 3 and .5 (true:2); the loss for the second approach can improve.\n",
        "```\n",
        "# approach 2\n",
        "def argmin_lopt_emp(P_ybarx, y, X):\n",
        "    '''\n",
        "    Compute approach2 optimal solution; empirical objective minimization\n",
        "    Parameters:\n",
        "        function P_ybarx: simulator function given X and theta, outputs y\n",
        "        array y: outcome data of size [n, 1]\n",
        "        array X: predictor data of size [n, p] \n",
        "    Returns:\n",
        "        array what: optimal solution for each x of size [n,1]\n",
        "    '''\n",
        "    # DO NOT CONFUSE THE TWO\n",
        "    # what_x (\\hat{w}(\\theta, x_i))\n",
        "    # what (\\hat{w}(\\hat{\\theta_2}, x))\n",
        "    theta1 = np.arange(1, 3, 0.5)\n",
        "    theta2 = np.arange(1, 3, 0.5)\n",
        "    theta1, theta2 = np.meshgrid(theta1, theta2)\n",
        "    profit, cost = 5, 1\n",
        "    M = 1000000\n",
        "    for theta in zip(theta1.ravel(), theta2.ravel()):\n",
        "      loss = 0\n",
        "      for i in range(len(X)):\n",
        "        what_x = argmin_lopt_gen(P_ybarx, theta, X[i])\n",
        "        loss -= (profit * min(what_x, y[i]) - cost * what_x)\n",
        "      if loss < M:\n",
        "        thetahat2 = theta\n",
        "    what = np.repeat(np.nan, len(X))\n",
        "    for i in range(len(X)):\n",
        "        what[i] = argmin_lopt_gen(P_ybarx, thetahat2, X[i])\n",
        "    return what\n",
        "```"
      ]
    },
    {
      "cell_type": "code",
      "metadata": {
        "id": "1VZMOFNt9tDd"
      },
      "source": [
        "ym1 = np.array(df.ym1)\n",
        "df['what1_m']= argmin_lopt_bar_argmin_lpred(MClass, P_ybarx, yw, X) #MClass = \"lin\"\n",
        "df['what2_m']= argmin_lopt_emp(P_ybarx, ym1, X)\n",
        "print(np.mean([-(profit * min(w, y) - cost * w) for w, y in zip(df.ym1, df.what1_m)]))\n",
        "print(np.mean([-(profit * min(w, y) - cost * w) for w, y in zip(df.ym1, df.what2_m)]))\n",
        "#3.233612485805617\n",
        "#2.951143204488013"
      ],
      "execution_count": null,
      "outputs": []
    },
    {
      "cell_type": "code",
      "metadata": {
        "id": "9EHZf4-D_oCa"
      },
      "source": [
        "# Future work. Distribution misspecification\n",
        "ym2 = np.array(df.ym2)\n",
        "df['what1_m2']= argmin_lopt_bar_argmin_lpred(MClass, P_ybarx, ym2, X) #MClass = \"lin\"\n",
        "df['what2_m2']= argmin_lopt_emp(P_ybarx, ym2, X)\n",
        "print(np.mean([-(profit * min(w, y) - cost * w) for w, y in zip(df.ym2, df.what1)]))\n",
        "print(np.mean([-(profit * min(w, y) - cost * w) for w, y in zip(df.ym2, df.what2)]))"
      ],
      "execution_count": null,
      "outputs": []
    },
    {
      "cell_type": "markdown",
      "metadata": {
        "id": "C0fkKInt_b7k"
      },
      "source": [
        "## Main code for plugin optimizer, approach 1, 2"
      ]
    },
    {
      "cell_type": "markdown",
      "metadata": {
        "id": "JBNL02hc8NEe"
      },
      "source": [
        "```\n",
        "## 2. Policies with given predictors (supervised)\n",
        "# plug-in opt.solver\n",
        "def argmin_lopt_gen(P_ybarx, theta, x):\n",
        "    '''\n",
        "    Compute optimal solution for each theta and X assuming $Y|X \\sim P_{\\theta}$\n",
        "    Parameters:\n",
        "        function P_ybarx: given x, theta, simulate y vector (should be len(y)>1)\n",
        "        array theta: model parameter of size [p, 1]\n",
        "        array x: predictor data of size [1, p] \n",
        "        function lopt: loss function, given w(x), y, X, outputs loss\n",
        "    Returns:\n",
        "        array w: optimal solution for each x of size [n,1]\n",
        "    '''\n",
        "    y_sim = P_ybarx(theta, x, n_gen = 10)\n",
        "    profit, cost = 5, 1 #todo **kwargs.args()\n",
        "    data = {'y': list(y_sim), 'n': len(y_sim), 'profit': profit, 'cost': cost} \n",
        "    sm = cmdstanpy.CmdStanModel(stan_file=\"/content/drive/MyDrive/Colab Notebooks/robust_optimization/src/stan/optW_lopt_NV.stan\") \n",
        "    what = sm.optimize(data).stan_variable('w')\n",
        "    return what\n",
        "\n",
        "# approach 1\n",
        "def argmin_lopt_bar_argmin_lpred(MClass, P_ybarx, y, X, alg_type = \"sample\"):\n",
        "    '''\n",
        "    Compute approach1 optimal solution; separate predict optimize\n",
        "    Parameters:\n",
        "         char MClass: model class type specificed with `P_ybarx`\n",
        "            \"lin\": y_true = theta' * X\n",
        "            \"quad\": y_true = theta' * X^2\n",
        "          np.array y: outcome data of size [n, 1]\n",
        "          np.array X: predictor data of size [n, p] \n",
        "          chr alg_type: Solver algorithm\n",
        "    Returns:\n",
        "        np.array what: predict then optimize optimal solution of size [n,1]\n",
        "    '''\n",
        "    thetahat1 = argmin_lpred(MClass, y, X, alg_type = alg_type)\n",
        "    what = np.repeat(np.nan, len(X))\n",
        "    for i in range(len(X)):\n",
        "        what[i] = argmin_lopt_gen(P_ybarx, thetahat1, X[i])\n",
        "    return what\n",
        "\n",
        "# approach 2\n",
        "def argmin_lopt_emp(P_ybarx, y, X):\n",
        "    '''\n",
        "    Compute approach2 optimal solution; empirical objective minimization\n",
        "    Parameters:\n",
        "        function P_ybarx: simulator function given X and theta, outputs y\n",
        "        array y: outcome data of size [n, 1]\n",
        "        array X: predictor data of size [n, p] \n",
        "    Returns:\n",
        "        array what: optimal solution for each x of size [n,1]\n",
        "    '''\n",
        "    # DO NOT CONFUSE THE TWO\n",
        "    # what_x (\\hat{w}(\\theta, x_i))\n",
        "    # what (\\hat{w}(\\hat{\\theta_2}, x))\n",
        "    theta1 = np.arange(1, 3, 0.5)\n",
        "    theta2 = np.arange(1, 3, 0.5)\n",
        "    theta1, theta2 = np.meshgrid(theta1, theta2)\n",
        "    profit, cost = 5, 1\n",
        "    M = 1000000\n",
        "    for theta in zip(theta1.ravel(), theta2.ravel()):\n",
        "      loss = 0\n",
        "      for i in range(len(X)):\n",
        "        what_x = argmin_lopt_gen(P_ybarx, theta, X[i])\n",
        "        loss -= (profit * min(what_x, y[i]) - cost * what_x)\n",
        "        #lopt_NV(what, y[i], profit, cost) 'numpy.float64' object cannot be interpreted as an integer\n",
        "      if loss < M:\n",
        "        thetahat2 = theta\n",
        "    what = np.repeat(np.nan, len(X))\n",
        "    for i in range(len(X)):\n",
        "        what[i] = argmin_lopt_gen(P_ybarx, thetahat2, X[i])\n",
        "    return what\n",
        "\n",
        "def argmin_lpred(MClass, y, X, alg_type = \"sample\"):\n",
        "    '''\n",
        "    Solve parameter that best predicts y given X assuming $y\\sim N(X * theta, 1)$\n",
        "    Parameters:\n",
        "        char MClass: model class type specificed with `P_ybarx` which is user-defined \n",
        "             input for `argmin_lopt_gen`, `argmin_lopt_emp` \n",
        "             SHOULD comply with \"P_ybarx_f{MClass}.stan\"\n",
        "             \"lin\": y_true = theta' * X\n",
        "             \"quad\": y_true = theta' * X^2\n",
        "        np.array y: outcome data of size [n, 1]\n",
        "        np.array X: predictor data of size [n, p] \n",
        "        chr alg_type: Solver algorithm\n",
        "             \"sample\": MAP with improper uniform priors (undeclared) in stan file with HMC\n",
        "             \"optimize\": Maximum likelihood estimate () with \"lbfgs\", \"bfgs\", \"newton\"  \n",
        "             \"varaiational\": variational inference with ADVI, RVI\n",
        "             https://mc-stan.org/cmdstanpy/examples/Maximum%20Likelihood%20Estimation.html\n",
        "             https://mc-stan.org/cmdstanpy/examples/Variational%20Inference.html\n",
        "    Returns:\n",
        "        np.array thetahat: optimal parameter value of size [p, 1]\n",
        "    '''\n",
        "    data = {'X':X.tolist(), 'y':y, 'n': len(X), 'p': len(X[1])} \n",
        "    sm = cmdstanpy.CmdStanModel(stan_file=\"/content/drive/MyDrive/Colab Notebooks/robust_optimization/src/stan/optTheta_lpred.stan\") # true theta: 2, 2\n",
        "    if alg_type == \"sample\":\n",
        "      thetahat = np.mean(sm.sample(data).stan_variable('beta'), axis =0) # 2.00, 1.98\n",
        "    if alg_type == \"optimize\":\n",
        "      thetahat = sm.optimize(data).stan_variable('beta') # 2.00 , 1.98\n",
        "    if alg_type == \"variational\": \n",
        "      thetahat = np.mean(sm.sample(data).stan_variable('beta'), axis =0) # 1.99, 1.99\n",
        "    return thetahat\n",
        "\n",
        "```"
      ]
    },
    {
      "cell_type": "markdown",
      "metadata": {
        "id": "ZTBlC9McawMc"
      },
      "source": [
        "# EOD 0906."
      ]
    }
  ]
}