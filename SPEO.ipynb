{
 "cells": [
  {
   "cell_type": "code",
   "execution_count": 1,
   "metadata": {
    "colab": {
     "base_uri": "https://localhost:8080/"
    },
    "id": "AvAg3WNDnw_j",
    "executionInfo": {
     "status": "ok",
     "timestamp": 1.630794315077E12,
     "user_tz": 240.0,
     "elapsed": 24758.0,
     "user": {
      "displayName": "",
      "photoUrl": "",
      "userId": ""
     }
    },
    "outputId": "86653cd4-1f9c-4b5a-c08f-1c4195c83a66"
   },
   "outputs": [
    {
     "name": "stdout",
     "output_type": "stream",
     "text": [
      "Mounted at /content/drive\n"
     ]
    }
   ],
   "source": [
    "# allow R\n",
    "%load_ext rpy2.ipython\n",
    "\n",
    "from google.colab import drive\n",
    "drive.mount('/content/drive', force_remount=True)\n",
    "# add hamiltorch for edit purpose (RUN THIS CELL ARTER .py EDIT!)\n",
    "import sys\n",
    "import matplotlib.pyplot as plt\n",
    "sys.path.append('/content/drive/MyDrive/Colab Notebooks/robust_optimization')\n",
    "sys.path.append('/content/drive/MyDrive/Colab Notebooks/robust_optimization/refcodes/SPO/HelperFunctions.py')\n"
   ]
  },
  {
   "cell_type": "code",
   "execution_count": null,
   "metadata": {
    "id": "JSgtAGCC1W9W"
   },
   "outputs": [],
   "source": [
    "%%R\n",
    "remotes::install_github(\"stan-dev/cmdstanr\")\n",
    "library(\"cmdstanr\")\n",
    "install_cmdstan() \n",
    "set_cmdstan_path(path = NULL)"
   ]
  },
  {
   "cell_type": "code",
   "execution_count": 21,
   "metadata": {
    "id": "R6-VrjbQPzyB",
    "executionInfo": {
     "status": "error",
     "timestamp": 1.6307832716E12,
     "user_tz": 240.0,
     "elapsed": 123.0,
     "user": {
      "displayName": "",
      "photoUrl": "",
      "userId": ""
     }
    },
    "outputId": "62dc5d3a-6791-49c4-f006-accc79787660",
    "colab": {
     "base_uri": "https://localhost:8080/",
     "height": 130.0
    }
   },
   "outputs": [
    {
     "ename": "SyntaxError",
     "evalue": "ignored",
     "traceback": [
      "\u001b[0;36m  File \u001b[0;32m\"<ipython-input-21-ad9751b49713>\"\u001b[0;36m, line \u001b[0;32m2\u001b[0m\n\u001b[0;31m    %%R\u001b[0m\n\u001b[0m    ^\u001b[0m\n\u001b[0;31mSyntaxError\u001b[0m\u001b[0;31m:\u001b[0m invalid syntax\n"
     ],
     "output_type": "error"
    }
   ],
   "source": [
    "P\n",
    "learning\n",
    "C(w, y) \n",
    "w(theta, x) given a\n",
    "def solver():\n"
   ]
  },
  {
   "cell_type": "code",
   "execution_count": 43,
   "metadata": {
    "id": "2rAleJCoQg4m",
    "executionInfo": {
     "status": "ok",
     "timestamp": 1.630792925733E12,
     "user_tz": 240.0,
     "elapsed": 166.0,
     "user": {
      "displayName": "",
      "photoUrl": "",
      "userId": ""
     }
    }
   },
   "outputs": [],
   "source": [
    ""
   ]
  },
  {
   "cell_type": "code",
   "execution_count": 41,
   "metadata": {
    "id": "tdTZ1gDNQwtq",
    "executionInfo": {
     "status": "ok",
     "timestamp": 1.630792904519E12,
     "user_tz": 240.0,
     "elapsed": 460.0,
     "user": {
      "displayName": "",
      "photoUrl": "",
      "userId": ""
     }
    },
    "outputId": "816d828c-ae43-4d02-ac31-5f9dde631b0d",
    "colab": {
     "base_uri": "https://localhost:8080/"
    }
   },
   "outputs": [
    {
     "name": "stderr",
     "output_type": "stream",
     "text": [
      "R[write to console]: Model executable is up to date!\n",
      "\n"
     ]
    },
    {
     "name": "stdout",
     "output_type": "stream",
     "text": [
      "Initial log joint probability = 59.121 \n",
      "    Iter      log prob        ||dx||      ||grad||       alpha      alpha0  # evals  Notes  \n",
      "      24           100      0.980258   1.19188e-07           1           1       27    \n",
      "Optimization terminated normally:  \n",
      "  Convergence detected: relative gradient magnitude is below tolerance \n",
      "Finished in  0.2 seconds.\n",
      " variable estimate\n",
      "     lp__   100.00\n",
      "     x       10.00\n",
      "     y       20.00\n"
     ]
    }
   ],
   "source": [
    "%%R\n",
    "sc_1 <-\n",
    "\"\n",
    "data{\n",
    "  \n",
    "}\n",
    "\n",
    "parameters{\n",
    "  real<lower=0,upper=10> x;\n",
    "  real<lower=0,upper=20> y;\n",
    "}\n",
    "model{\n",
    "  target += 2*x +4*y;\n",
    "}\n",
    "\"\n",
    "m1 <- cmdstan_model(stan_file = write_stan_file(sc_1))\n",
    "res <- m1$optimize()\n",
    "print(res)\n",
    "# variable estimate\n",
    "#      lp__   100.00\n",
    "#      x       10.00\n",
    "#      y       20.00"
   ]
  },
  {
   "cell_type": "code",
   "execution_count": 42,
   "metadata": {
    "id": "xn_TY6F1LZPE",
    "executionInfo": {
     "status": "ok",
     "timestamp": 1.63079290751E12,
     "user_tz": 240.0,
     "elapsed": 2.0,
     "user": {
      "displayName": "",
      "photoUrl": "",
      "userId": ""
     }
    }
   },
   "outputs": [],
   "source": [
    "from HelperFunctions import generate_data"
   ]
  },
  {
   "cell_type": "code",
   "execution_count": 43,
   "metadata": {
    "id": "mM4VZco0rXi8",
    "executionInfo": {
     "status": "error",
     "timestamp": 1.630792909975E12,
     "user_tz": 240.0,
     "elapsed": 178.0,
     "user": {
      "displayName": "",
      "photoUrl": "",
      "userId": ""
     }
    },
    "outputId": "3ec317a7-0476-4250-be4f-eb623d04ce9c",
    "colab": {
     "base_uri": "https://localhost:8080/",
     "height": 373.0
    }
   },
   "outputs": [
    {
     "ename": "ModuleNotFoundError",
     "evalue": "ignored",
     "traceback": [
      "\u001b[0;31m---------------------------------------------------------------------------\u001b[0m",
      "\u001b[0;31mModuleNotFoundError\u001b[0m                       Traceback (most recent call last)",
      "\u001b[0;32m<ipython-input-43-81d67b5eb579>\u001b[0m in \u001b[0;36m<module>\u001b[0;34m()\u001b[0m\n\u001b[1;32m      4\u001b[0m \u001b[0;32mfrom\u001b[0m \u001b[0mmatplotlib\u001b[0m \u001b[0;32mimport\u001b[0m \u001b[0mpyplot\u001b[0m \u001b[0;32mas\u001b[0m \u001b[0mplt\u001b[0m\u001b[0;34m\u001b[0m\u001b[0;34m\u001b[0m\u001b[0m\n\u001b[1;32m      5\u001b[0m \u001b[0;34m\u001b[0m\u001b[0m\n\u001b[0;32m----> 6\u001b[0;31m \u001b[0;32mfrom\u001b[0m \u001b[0mpolicy\u001b[0m \u001b[0;32mimport\u001b[0m \u001b[0mnormal_ass_q\u001b[0m\u001b[0;34m,\u001b[0m \u001b[0mquantile_q\u001b[0m\u001b[0;34m\u001b[0m\u001b[0;34m\u001b[0m\u001b[0m\n\u001b[0m\u001b[1;32m      7\u001b[0m \u001b[0;32mfrom\u001b[0m \u001b[0mprofit\u001b[0m \u001b[0;32mimport\u001b[0m \u001b[0mprofit\u001b[0m\u001b[0;34m\u001b[0m\u001b[0;34m\u001b[0m\u001b[0m\n\u001b[1;32m      8\u001b[0m \u001b[0;32mimport\u001b[0m \u001b[0mpandas\u001b[0m \u001b[0;32mas\u001b[0m \u001b[0mpd\u001b[0m\u001b[0;34m\u001b[0m\u001b[0;34m\u001b[0m\u001b[0m\n",
      "\u001b[0;31mModuleNotFoundError\u001b[0m: No module named 'policy'",
      "",
      "\u001b[0;31m---------------------------------------------------------------------------\u001b[0;32m\nNOTE: If your import is failing due to a missing package, you can\nmanually install dependencies using either !pip or !apt.\n\nTo view examples of installing some common dependencies, click the\n\"Open Examples\" button below.\n\u001b[0;31m---------------------------------------------------------------------------\u001b[0m\n"
     ],
     "output_type": "error"
    }
   ],
   "source": [
    "import numpy as np\n",
    "import pandas as pd\n",
    "import itertools\n",
    "from matplotlib import pyplot as plt\n",
    "\n",
    "from policy import normal_ass_q, quantile_q\n",
    "from profit import profit\n",
    "import pandas as pd\n",
    "import numpy as np\n",
    "from profit import profit, calc_beta_dist_model_profit\n",
    "from sklearn.preprocessing import MinMaxScaler\n",
    "from scipy.stats import norm"
   ]
  },
  {
   "cell_type": "code",
   "execution_count": 13,
   "metadata": {
    "id": "xXSbaN10PMJh",
    "executionInfo": {
     "status": "error",
     "timestamp": 1.630783013988E12,
     "user_tz": 240.0,
     "elapsed": 118.0,
     "user": {
      "displayName": "",
      "photoUrl": "",
      "userId": ""
     }
    },
    "outputId": "8c8ef005-afbf-4f92-b7f6-8f251966372a",
    "colab": {
     "base_uri": "https://localhost:8080/",
     "height": 130.0
    }
   },
   "outputs": [
    {
     "ename": "SyntaxError",
     "evalue": "ignored",
     "traceback": [
      "\u001b[0;36m  File \u001b[0;32m\"<ipython-input-13-545dfe4271ae>\"\u001b[0;36m, line \u001b[0;32m2\u001b[0m\n\u001b[0;31m    opt1 =\"data{\u001b[0m\n\u001b[0m                ^\u001b[0m\n\u001b[0;31mSyntaxError\u001b[0m\u001b[0;31m:\u001b[0m EOL while scanning string literal\n"
     ],
     "output_type": "error"
    }
   ],
   "source": [
    "import cmdstanpy\n",
    "opt1 =\n",
    "\"data{\n",
    "  \n",
    "}\n",
    "\n",
    "parameters{\n",
    "  real<lower=0,upper=10> x;\n",
    "  real<lower=0,upper=20> y;\n",
    "}\n",
    "model{\n",
    "  target += 2*x +4*y;\n",
    "}\n",
    "\""
   ]
  },
  {
   "cell_type": "markdown",
   "metadata": {
    "id": "D4F_SfHTLUFI"
   },
   "source": [
    "#### q\n",
    "- integer or continuous solution?"
   ]
  },
  {
   "cell_type": "markdown",
   "metadata": {
    "id": "xiwCknXaspQt"
   },
   "source": [
    "given \n",
    "- true distribution: $X \\sim Unif(0,10), Y|X \\sim Normal(\\theta * X, 1)$\n",
    "- infer $\\theta$ \n",
    "- optimizaiton solver\n",
    "- function f\n",
    "- could have unforseen x! which is why $\\hat{\\theta}$ is needed for $\\theta * x$\n",
    "example of plug-in optimal solution $\\hat{w}(\\theta, x)$ could be "
   ]
  },
  {
   "cell_type": "markdown",
   "metadata": {
    "id": "4O_QUNlN88ij"
   },
   "source": [
    "# 1. well-specified"
   ]
  },
  {
   "cell_type": "code",
   "execution_count": null,
   "metadata": {
    "id": "DUsAae-M9A3s",
    "colab": {
     "base_uri": "https://localhost:8080/",
     "height": 126.0
    },
    "outputId": "c3411510-93b8-43c3-e6c4-c0746d62cef7"
   },
   "outputs": [
    {
     "ename": "SyntaxError",
     "evalue": "ignored",
     "traceback": [
      "\u001b[0;36m  File \u001b[0;32m\"<ipython-input-1-ca2972ece292>\"\u001b[0;36m, line \u001b[0;32m11\u001b[0m\n\u001b[0;31m    y|x mean = theta*x\u001b[0m\n\u001b[0m           ^\u001b[0m\n\u001b[0;31mSyntaxError\u001b[0m\u001b[0;31m:\u001b[0m invalid syntax\n"
     ],
     "output_type": "error"
    }
   ],
   "source": [
    "# true distribution\n",
    "x = np.random.uniform(0, 10, 1000)\n",
    "theta =1\n",
    "y_w = np.random.normal(loc = theta*x, scale = 1, size = 1000) #theta' =1\n",
    "y_m = np.random.normal(loc = theta*x**2, scale = 1, size = 1000)\n",
    "df = pd.DataFrame(columns = ['x', 'y_w',  'y_m',  'w1', 'w2'])\n",
    "df.x = x\n",
    "df.y_w = y_w\n",
    "df.y_m = y_m\n",
    "\n",
    "# model\n",
    "# cost function f - d is (x,y) form which infers theta from theta'x\n",
    "p = 5\n",
    "c = 1\n",
    "s = 0\n",
    "\n",
    "\n",
    "#App.1 goal is to infer theta\n",
    "# SPO is App.2, theta_2 \n",
    "# App.1 where normal  distribution is assumed\n",
    "def normal_ass_q(d, p, c, s, x): #x should the input - plot x and \n",
    "\n",
    "    underage_cost = p - c\n",
    "    overage_cost = c - s\n",
    "    ratio = underage_cost / (underage_cost + overage_cost)\n",
    "    return np.mean(d) + np.std(d) * norm.ppf(ratio)\n",
    "w1 = normal_ass_q(y_w, p, c, s =0) #q\n",
    "# App.2\n",
    "q_cand = range(1, 15)\n",
    "q2 = q_cand[np.argmax([profit(q, y_w, p, c, s) for q in q_cand])]"
   ]
  },
  {
   "cell_type": "code",
   "execution_count": 44,
   "metadata": {
    "id": "8j7FL_TG5yEI",
    "executionInfo": {
     "status": "ok",
     "timestamp": 1.630794115113E12,
     "user_tz": 240.0,
     "elapsed": 137.0,
     "user": {
      "displayName": "",
      "photoUrl": "",
      "userId": ""
     }
    },
    "outputId": "72ca6fcd-6045-4ee2-b2b7-8be448484f68",
    "colab": {
     "base_uri": "https://localhost:8080/"
    }
   },
   "outputs": [
    {
     "data": {
      "text/plain": [
       "-3"
      ]
     },
     "execution_count": 44,
     "metadata": {},
     "output_type": "execute_result"
    }
   ],
   "source": [
    "loss =3\n",
    "-loss"
   ]
  },
  {
   "cell_type": "code",
   "execution_count": null,
   "metadata": {
    "colab": {
     "base_uri": "https://localhost:8080/",
     "height": 408.0
    },
    "id": "fwj1sGEYi_Jh",
    "outputId": "adb3135b-371c-47c7-87ae-60dbcf97277f"
   },
   "outputs": [
    {
     "data": {
      "text/html": [
       "<div>\n",
       "<style scoped>\n",
       "    .dataframe tbody tr th:only-of-type {\n",
       "        vertical-align: middle;\n",
       "    }\n",
       "\n",
       "    .dataframe tbody tr th {\n",
       "        vertical-align: top;\n",
       "    }\n",
       "\n",
       "    .dataframe thead th {\n",
       "        text-align: right;\n",
       "    }\n",
       "</style>\n",
       "<table border=\"1\" class=\"dataframe\">\n",
       "  <thead>\n",
       "    <tr style=\"text-align: right;\">\n",
       "      <th></th>\n",
       "      <th>x</th>\n",
       "      <th>y_w</th>\n",
       "      <th>y_m</th>\n",
       "      <th>w1</th>\n",
       "      <th>w2</th>\n",
       "    </tr>\n",
       "  </thead>\n",
       "  <tbody>\n",
       "    <tr>\n",
       "      <th>0</th>\n",
       "      <td>3.883291</td>\n",
       "      <td>3.528465</td>\n",
       "      <td>14.454797</td>\n",
       "      <td>NaN</td>\n",
       "      <td>NaN</td>\n",
       "    </tr>\n",
       "    <tr>\n",
       "      <th>1</th>\n",
       "      <td>4.389609</td>\n",
       "      <td>4.576118</td>\n",
       "      <td>22.716367</td>\n",
       "      <td>NaN</td>\n",
       "      <td>NaN</td>\n",
       "    </tr>\n",
       "    <tr>\n",
       "      <th>2</th>\n",
       "      <td>8.895533</td>\n",
       "      <td>7.711067</td>\n",
       "      <td>78.957656</td>\n",
       "      <td>NaN</td>\n",
       "      <td>NaN</td>\n",
       "    </tr>\n",
       "    <tr>\n",
       "      <th>3</th>\n",
       "      <td>6.219650</td>\n",
       "      <td>6.158493</td>\n",
       "      <td>38.618502</td>\n",
       "      <td>NaN</td>\n",
       "      <td>NaN</td>\n",
       "    </tr>\n",
       "    <tr>\n",
       "      <th>4</th>\n",
       "      <td>1.969754</td>\n",
       "      <td>0.054242</td>\n",
       "      <td>5.001422</td>\n",
       "      <td>NaN</td>\n",
       "      <td>NaN</td>\n",
       "    </tr>\n",
       "    <tr>\n",
       "      <th>...</th>\n",
       "      <td>...</td>\n",
       "      <td>...</td>\n",
       "      <td>...</td>\n",
       "      <td>...</td>\n",
       "      <td>...</td>\n",
       "    </tr>\n",
       "    <tr>\n",
       "      <th>995</th>\n",
       "      <td>0.654948</td>\n",
       "      <td>1.075713</td>\n",
       "      <td>0.756912</td>\n",
       "      <td>NaN</td>\n",
       "      <td>NaN</td>\n",
       "    </tr>\n",
       "    <tr>\n",
       "      <th>996</th>\n",
       "      <td>0.818134</td>\n",
       "      <td>1.043758</td>\n",
       "      <td>1.422029</td>\n",
       "      <td>NaN</td>\n",
       "      <td>NaN</td>\n",
       "    </tr>\n",
       "    <tr>\n",
       "      <th>997</th>\n",
       "      <td>5.530350</td>\n",
       "      <td>7.337963</td>\n",
       "      <td>31.448776</td>\n",
       "      <td>NaN</td>\n",
       "      <td>NaN</td>\n",
       "    </tr>\n",
       "    <tr>\n",
       "      <th>998</th>\n",
       "      <td>8.139227</td>\n",
       "      <td>7.597911</td>\n",
       "      <td>66.821440</td>\n",
       "      <td>NaN</td>\n",
       "      <td>NaN</td>\n",
       "    </tr>\n",
       "    <tr>\n",
       "      <th>999</th>\n",
       "      <td>9.633283</td>\n",
       "      <td>11.709589</td>\n",
       "      <td>92.564616</td>\n",
       "      <td>NaN</td>\n",
       "      <td>NaN</td>\n",
       "    </tr>\n",
       "  </tbody>\n",
       "</table>\n",
       "<p>1000 rows × 5 columns</p>\n",
       "</div>"
      ],
      "text/plain": [
       "            x        y_w        y_m   w1   w2\n",
       "0    3.883291   3.528465  14.454797  NaN  NaN\n",
       "1    4.389609   4.576118  22.716367  NaN  NaN\n",
       "2    8.895533   7.711067  78.957656  NaN  NaN\n",
       "3    6.219650   6.158493  38.618502  NaN  NaN\n",
       "4    1.969754   0.054242   5.001422  NaN  NaN\n",
       "..        ...        ...        ...  ...  ...\n",
       "995  0.654948   1.075713   0.756912  NaN  NaN\n",
       "996  0.818134   1.043758   1.422029  NaN  NaN\n",
       "997  5.530350   7.337963  31.448776  NaN  NaN\n",
       "998  8.139227   7.597911  66.821440  NaN  NaN\n",
       "999  9.633283  11.709589  92.564616  NaN  NaN\n",
       "\n",
       "[1000 rows x 5 columns]"
      ]
     },
     "execution_count": 20,
     "metadata": {},
     "output_type": "execute_result"
    }
   ],
   "source": [
    "df #Q. w for each x?"
   ]
  },
  {
   "cell_type": "code",
   "execution_count": null,
   "metadata": {
    "colab": {
     "base_uri": "https://localhost:8080/",
     "height": 281.0
    },
    "id": "tNkQjcczfDXA",
    "outputId": "f6d3a5aa-9580-4353-aef4-e9453aa8f308"
   },
   "outputs": [
    {
     "data": {
      "text/plain": [
       "<matplotlib.collections.PathCollection at 0x7fc91e4a7cd0>"
      ]
     },
     "execution_count": 17,
     "metadata": {},
     "output_type": "execute_result"
    },
    {
     "data": {
      "image/png": "[encoded data removed]",
      "text/plain": [
       "<Figure size 432x288 with 1 Axes>"
      ]
     },
     "metadata": {
      "needs_background": "light"
     },
     "output_type": "display_data"
    }
   ],
   "source": [
    "plt.scatter(x, y_w)"
   ]
  },
  {
   "cell_type": "code",
   "execution_count": null,
   "metadata": {
    "colab": {
     "base_uri": "https://localhost:8080/",
     "height": 281.0
    },
    "id": "6YHEiG0_d8cM",
    "outputId": "d0392251-f9a7-4d0b-ca87-dd5904c5a064"
   },
   "outputs": [
    {
     "data": {
      "text/plain": [
       "<matplotlib.collections.PathCollection at 0x7fc91dd68950>"
      ]
     },
     "execution_count": 18,
     "metadata": {},
     "output_type": "execute_result"
    },
    {
     "data": {
      "image/png": "[encoded data removed]",
      "text/plain": [
       "<Figure size 432x288 with 1 Axes>"
      ]
     },
     "metadata": {
      "needs_background": "light"
     },
     "output_type": "display_data"
    }
   ],
   "source": [
    "plt.scatter(x, y_m)"
   ]
  },
  {
   "cell_type": "code",
   "execution_count": null,
   "metadata": {
    "id": "w3D5nToli8R4"
   },
   "outputs": [],
   "source": [
    "from scipy import stats\n",
    "import numpy as np\n",
    "from scipy.optimize import minimize\n",
    "import matplotlib.pyplot as plt\n",
    "np.random.seed(1)\n",
    "\n",
    "n = 20\n",
    "\n",
    "x_min = -10\n",
    "x_max = 10\n",
    "step_size = (x_max - x_min) / n\n",
    "\n",
    "## pick some x-values and compute true log PDF\n",
    "x_data = np.arange(x_min, x_max, step_size)\n",
    "known_log_pdfs = stats.norm.logpdf(x_data, 0, 3)\n",
    "\n",
    "def gaussian(params):\n",
    "    mean = params[0]   \n",
    "    sd = params[1]\n",
    "\n",
    "    estimated_log_pdfs = stats.norm.logpdf(x_data, loc=mean, scale=sd)\n",
    "    \n",
    "    mse = ((estimated_log_pdfs - known_log_pdfs) ** 2).mean()\n",
    "\n",
    "    return mse\n",
    "\n",
    "initParams = [1, 1]\n",
    "\n",
    "results = minimize(gaussian, initParams, method='Nelder-Mead')\n",
    "print(results.x)"
   ]
  },
  {
   "cell_type": "markdown",
   "metadata": {
    "id": "bpx50RiAOxDv"
   },
   "source": [
    "# 2. Misspecified"
   ]
  },
  {
   "cell_type": "code",
   "execution_count": null,
   "metadata": {
    "id": "8poR1pi-WSOc"
   },
   "outputs": [],
   "source": [
    "x = np.random.uniform(0, 10, 100)\n",
    "y = np.random.normal(loc = x**2, scale = 1, size = 100)"
   ]
  },
  {
   "cell_type": "code",
   "execution_count": null,
   "metadata": {
    "id": "SH2TPjj_K1EW",
    "colab": {
     "base_uri": "https://localhost:8080/"
    },
    "outputId": "34c0fe72-763d-4a1b-ea55-2f653c9beb04"
   },
   "outputs": [
    {
     "name": "stdout",
     "output_type": "stream",
     "text": [
      "7923.706733393892 7921.710377110255\n"
     ]
    }
   ],
   "source": [
    "# true distribution\n",
    "x = np.random.uniform(0, 10, 100)\n",
    "y = np.random.normal(loc = x**2, scale = 1, size = 100)\n",
    "data = zip(x,y)\n",
    "\n",
    "# model\n",
    "# cost function f - d is (x,y) form which infers theta from theta'x\n",
    "\n",
    "# App.1\n",
    "q1 = normal_ass_q(y, p, c, s =0) #q\n",
    "# App.2\n",
    "q_cand = np.arange(70, 130)#todo: find a reasonable range acc. to h(x) - possible w.o. knowing its form?\n",
    "q2 = q_cand[np.argmax([profit(q, y, p, c, s) for q in q_cand])]\n",
    "\n",
    "print(profit(q1, y, p, c, s), profit(q2, y, p, c, s))"
   ]
  },
  {
   "cell_type": "code",
   "execution_count": null,
   "metadata": {
    "colab": {
     "base_uri": "https://localhost:8080/"
    },
    "id": "wQNHbg0-XkBP",
    "outputId": "0d5fd33c-5fef-40ee-e017-a93d6201a4e6"
   },
   "outputs": [
    {
     "data": {
      "text/plain": [
       "array([81.00821638,  7.46363481, 67.07899999, 10.27762757, 46.80857753,\n",
       "       13.61445179, 31.43282306, -0.38138577, 36.45452032, 11.84792799,\n",
       "       14.24490141, 75.41750267, 43.25110055,  9.92571025, 53.50890524,\n",
       "       67.60229864, 52.98624118,  8.36818189, 82.18801565,  4.28855869,\n",
       "        6.67209951,  1.12287726, 22.38946954,  1.98817176, 69.27125738,\n",
       "       69.79500156, 65.60207576, 23.69693792, -0.49179191, 55.44773425,\n",
       "       27.45163731, 61.86040024, 43.24023414, 19.26942202, -0.25463114,\n",
       "       56.48132625,  1.50679404,  4.40559088, 10.88912092, 16.48448307,\n",
       "       -1.46526715, 62.76023284,  8.28388656, 52.48865539, 77.38241539,\n",
       "        0.96740124, 87.7149169 , 15.24912338,  6.13130902,  2.23049491,\n",
       "       85.61308614, 70.14244211,  0.14942568, 25.99254257, 59.66045334,\n",
       "       11.71617811, 89.28682175, 66.15580421, 99.40822989,  2.50569567,\n",
       "       77.34113315, 57.80928067,  0.97729621, 88.77469963, 34.26412584,\n",
       "        8.48642667,  6.64626866, 26.03758165, 41.26752904,  3.48119525,\n",
       "       -1.83187493, 39.43879162, 39.91016125, 72.09689889, 25.97713965,\n",
       "       34.04965701, 89.20800673,  6.29254861, 26.19659964,  3.15032323,\n",
       "        5.02007075, 46.10995943, 25.48161872,  3.19910002, -0.57031913,\n",
       "        3.29111328, 51.38543388,  1.24723993, 39.95844628,  2.42193598,\n",
       "        5.78533988,  0.96069521,  3.34808028, 22.08224472, 65.63719985,\n",
       "       40.28223299,  1.62754658,  0.88519269, 35.25943964, 20.34923272])"
      ]
     },
     "execution_count": 250,
     "metadata": {},
     "output_type": "execute_result"
    }
   ],
   "source": [
    "y"
   ]
  },
  {
   "cell_type": "code",
   "execution_count": null,
   "metadata": {
    "colab": {
     "base_uri": "https://localhost:8080/"
    },
    "id": "YLVTTCopX7FS",
    "outputId": "58b21a35-55fb-48c4-cd5f-486e4e0af04a"
   },
   "outputs": [
    {
     "data": {
      "text/plain": [
       "69.20776305366276"
      ]
     },
     "execution_count": 247,
     "metadata": {},
     "output_type": "execute_result"
    }
   ],
   "source": [
    "q1"
   ]
  },
  {
   "cell_type": "code",
   "execution_count": null,
   "metadata": {
    "id": "o0Pmss5QX9Hd"
   },
   "outputs": [],
   "source": [
    ""
   ]
  }
 ],
 "metadata": {
  "colab": {
   "name": "SPEO.ipynb의 사본",
   "provenance": [
    {
     "file_id": "https://github.com/hyunjimoon/robust_optimization/blob/master/SPEO.ipynb",
     "timestamp": 1.630794360482E12
    }
   ],
   "collapsed_sections": [],
   "authorship_tag": "ABX9TyPV00T6r0kx3J7Sifvh2ZQV"
  },
  "kernelspec": {
   "name": "python3",
   "display_name": "Python 3"
  },
  "language_info": {
   "name": "python"
  }
 },
 "nbformat": 4,
 "nbformat_minor": 0
}
