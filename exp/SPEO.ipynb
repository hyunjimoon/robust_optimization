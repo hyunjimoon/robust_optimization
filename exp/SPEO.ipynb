{
 "cells": [
  {
   "cell_type": "code",
   "execution_count": 5,
   "metadata": {
    "colab": {
     "base_uri": "https://localhost:8080/"
    },
    "executionInfo": {
     "elapsed": 1240,
     "status": "ok",
     "timestamp": 1630376980467,
     "user": {
      "displayName": "Hyunji Moon",
      "photoUrl": "https://lh3.googleusercontent.com/a-/AOh14GiYrsHKC2ko8bXqSu_1fLdisKmzowPXNEyNDH5ejzI=s64",
      "userId": "17944317414578830628"
     },
     "user_tz": 240
    },
    "id": "AvAg3WNDnw_j",
    "outputId": "3c71bc87-c567-492b-a3c0-a0f5dd9bcbaa"
   },
   "outputs": [
    {
     "ename": "ModuleNotFoundError",
     "evalue": "No module named 'matplotlib'",
     "output_type": "error",
     "traceback": [
      "\u001b[0;31m---------------------------------------------------------------------------\u001b[0m",
      "\u001b[0;31mModuleNotFoundError\u001b[0m                       Traceback (most recent call last)",
      "\u001b[0;32m<ipython-input-5-c0fcd820046b>\u001b[0m in \u001b[0;36m<module>\u001b[0;34m\u001b[0m\n\u001b[1;32m      1\u001b[0m \u001b[0;32mimport\u001b[0m \u001b[0msys\u001b[0m\u001b[0;34m\u001b[0m\u001b[0;34m\u001b[0m\u001b[0m\n\u001b[0;32m----> 2\u001b[0;31m \u001b[0;32mimport\u001b[0m \u001b[0mmatplotlib\u001b[0m\u001b[0;34m.\u001b[0m\u001b[0mpyplot\u001b[0m \u001b[0;32mas\u001b[0m \u001b[0mplt\u001b[0m\u001b[0;34m\u001b[0m\u001b[0;34m\u001b[0m\u001b[0m\n\u001b[0m",
      "\u001b[0;31mModuleNotFoundError\u001b[0m: No module named 'matplotlib'"
     ]
    }
   ],
   "source": [
    "import sys\n",
    "import matplotlib.pyplot as plt"
   ]
  },
  {
   "cell_type": "code",
   "execution_count": null,
   "metadata": {},
   "outputs": [
    {
     "name": "stdout",
     "output_type": "stream",
     "text": [
      "Collecting package metadata (current_repodata.json): done\n",
      "Solving environment: done\n",
      "\n",
      "## Package Plan ##\n",
      "\n",
      "  environment location: /Users/hyunjimoon/opt/anaconda3/envs/sbc\n",
      "\n",
      "  added / updated specs:\n",
      "    - matplotlib\n",
      "\n",
      "\n",
      "The following packages will be downloaded:\n",
      "\n",
      "    package                    |            build\n",
      "    ---------------------------|-----------------\n",
      "    brotli-1.0.9               |       hb1e8313_2         398 KB\n",
      "    fonttools-4.25.0           |     pyhd3eb1b0_0         632 KB\n",
      "    intel-openmp-2021.3.0      |    hecd8cb5_3375         950 KB\n",
      "    matplotlib-3.4.2           |   py38hecd8cb5_0          26 KB\n",
      "    matplotlib-base-3.4.2      |   py38h8b3ea08_0         5.6 MB\n",
      "    mkl-2021.3.0               |     hecd8cb5_517       100.4 MB\n",
      "    mkl-service-2.4.0          |   py38h9ed2024_0          45 KB\n",
      "    mkl_random-1.2.2           |   py38hb2f4e1b_0         273 KB\n",
      "    munkres-1.1.4              |             py_0          13 KB\n",
      "    numpy-1.20.3               |   py38h4b4dc7a_0          23 KB\n",
      "    numpy-base-1.20.3          |   py38he0bd621_0         4.4 MB\n",
      "    openjpeg-2.4.0             |       h66ea3da_0         301 KB\n",
      "    pillow-8.3.1               |   py38ha4cf6ea_0         604 KB\n",
      "    ------------------------------------------------------------\n",
      "                                           Total:       113.5 MB\n",
      "\n",
      "The following NEW packages will be INSTALLED:\n",
      "\n",
      "  blas               pkgs/main/osx-64::blas-1.0-mkl\n",
      "  brotli             pkgs/main/osx-64::brotli-1.0.9-hb1e8313_2\n",
      "  cycler             pkgs/main/osx-64::cycler-0.10.0-py38_0\n",
      "  fonttools          pkgs/main/noarch::fonttools-4.25.0-pyhd3eb1b0_0\n",
      "  intel-openmp       pkgs/main/osx-64::intel-openmp-2021.3.0-hecd8cb5_3375\n",
      "  kiwisolver         pkgs/main/osx-64::kiwisolver-1.3.1-py38h23ab428_0\n",
      "  lcms2              pkgs/main/osx-64::lcms2-2.12-hf1fd2bf_0\n",
      "  matplotlib         pkgs/main/osx-64::matplotlib-3.4.2-py38hecd8cb5_0\n",
      "  matplotlib-base    pkgs/main/osx-64::matplotlib-base-3.4.2-py38h8b3ea08_0\n",
      "  mkl                pkgs/main/osx-64::mkl-2021.3.0-hecd8cb5_517\n",
      "  mkl-service        pkgs/main/osx-64::mkl-service-2.4.0-py38h9ed2024_0\n",
      "  mkl_fft            pkgs/main/osx-64::mkl_fft-1.3.0-py38h4a7008c_2\n",
      "  mkl_random         pkgs/main/osx-64::mkl_random-1.2.2-py38hb2f4e1b_0\n",
      "  munkres            pkgs/main/noarch::munkres-1.1.4-py_0\n",
      "  numpy              pkgs/main/osx-64::numpy-1.20.3-py38h4b4dc7a_0\n",
      "  numpy-base         pkgs/main/osx-64::numpy-base-1.20.3-py38he0bd621_0\n",
      "  olefile            pkgs/main/noarch::olefile-0.46-py_0\n",
      "  openjpeg           pkgs/main/osx-64::openjpeg-2.4.0-h66ea3da_0\n",
      "  pillow             pkgs/main/osx-64::pillow-8.3.1-py38ha4cf6ea_0\n",
      "\n",
      "\n",
      "Proceed ([y]/n)? "
     ]
    }
   ],
   "source": [
    "!conda install matplotlib\n",
    "!y"
   ]
  },
  {
   "cell_type": "code",
   "execution_count": null,
   "metadata": {
    "executionInfo": {
     "elapsed": 158,
     "status": "ok",
     "timestamp": 1630376987458,
     "user": {
      "displayName": "Hyunji Moon",
      "photoUrl": "https://lh3.googleusercontent.com/a-/AOh14GiYrsHKC2ko8bXqSu_1fLdisKmzowPXNEyNDH5ejzI=s64",
      "userId": "17944317414578830628"
     },
     "user_tz": 240
    },
    "id": "mM4VZco0rXi8"
   },
   "outputs": [],
   "source": [
    "import numpy as np\n",
    "import pandas as pd\n",
    "import itertools\n",
    "from matplotlib import pyplot as plt\n",
    "from demand_generator import gen_data\n",
    "from policy import normal_ass_q, quantile_q\n",
    "import pandas as pd\n",
    "import numpy as np\n",
    "from profit import profit, calc_beta_dist_model_profit\n",
    "from sklearn.preprocessing import MinMaxScaler"
   ]
  },
  {
   "cell_type": "code",
   "execution_count": 85,
   "metadata": {
    "executionInfo": {
     "elapsed": 3,
     "status": "ok",
     "timestamp": 1630376988475,
     "user": {
      "displayName": "Hyunji Moon",
      "photoUrl": "https://lh3.googleusercontent.com/a-/AOh14GiYrsHKC2ko8bXqSu_1fLdisKmzowPXNEyNDH5ejzI=s64",
      "userId": "17944317414578830628"
     },
     "user_tz": 240
    },
    "id": "jBLr8SSwBo0M"
   },
   "outputs": [],
   "source": [
    "?normal_ass_q"
   ]
  },
  {
   "cell_type": "markdown",
   "metadata": {
    "id": "xiwCknXaspQt"
   },
   "source": [
    "given \n",
    "- true distribution: $X \\sim Unif(0,10), Y|X \\sim Normal(X, 1)$\n",
    "- optimizaiton solver\n",
    "- function f\n",
    "\n",
    "example of plug-in optimal solution $\\hat{w}(\\theta, x)$ could be "
   ]
  },
  {
   "cell_type": "markdown",
   "metadata": {
    "id": "4O_QUNlN88ij"
   },
   "source": [
    "# 1. well-specified"
   ]
  },
  {
   "cell_type": "code",
   "execution_count": null,
   "metadata": {
    "id": "DUsAae-M9A3s"
   },
   "outputs": [],
   "source": [
    "# true distribution\n",
    "x = np.random.uniform(0, 10, 100)\n",
    "y = np.random.normal(loc = x, scale = 1, size = 100)\n",
    "data = zip(x,y)\n",
    "\n",
    "# model\n",
    "\n",
    "# cost function f - d is (x,y) form which infers theta from theta'x\n",
    "p = 5\n",
    "c = 1\n",
    "\n",
    "# App.1\n",
    "from policy import normal_ass_q\n",
    "normal_ass_q(y, p, c)"
   ]
  },
  {
   "cell_type": "code",
   "execution_count": null,
   "metadata": {
    "colab": {
     "base_uri": "https://localhost:8080/"
    },
    "executionInfo": {
     "elapsed": 230,
     "status": "ok",
     "timestamp": 1630376672457,
     "user": {
      "displayName": "Hyunji Moon",
      "photoUrl": "https://lh3.googleusercontent.com/a-/AOh14GiYrsHKC2ko8bXqSu_1fLdisKmzowPXNEyNDH5ejzI=s64",
      "userId": "17944317414578830628"
     },
     "user_tz": 240
    },
    "id": "tUqSWRzY9_dI",
    "outputId": "959c379b-7ee5-4194-af93-417d8f24cd34"
   },
   "outputs": [
    {
     "data": {
      "text/plain": [
       "7.885555787057388"
      ]
     },
     "execution_count": 67,
     "metadata": {},
     "output_type": "execute_result"
    }
   ],
   "source": [
    "\n",
    "from scipy.stats import norm\n",
    "def normal_ass_q(d, p, c, s=0):\n",
    "    underage_cost = p - c\n",
    "    overage_cost = c - s\n",
    "    ratio = underage_cost / (underage_cost + overage_cost)\n",
    "\n",
    "    return np.mean(d) + np.std(d) * norm.ppf(ratio)\n",
    "normal_ass_q(y, p, c)"
   ]
  },
  {
   "cell_type": "code",
   "execution_count": null,
   "metadata": {
    "id": "ZO9Anwle_DRx"
   },
   "outputs": [],
   "source": [
    "?normal_ass_q()\n"
   ]
  },
  {
   "cell_type": "code",
   "execution_count": null,
   "metadata": {
    "id": "luVdXyebBL7x"
   },
   "outputs": [],
   "source": []
  }
 ],
 "metadata": {
  "colab": {
   "authorship_tag": "ABX9TyPdyPo564wP9FWsklWQR+67",
   "collapsed_sections": [],
   "mount_file_id": "19ubwc6hvPhfaI3f4Av1Cr_d9i27QPTf6",
   "name": "SPEO.ipynb",
   "provenance": []
  },
  "kernelspec": {
   "display_name": "Python 3",
   "language": "python",
   "name": "python3"
  },
  "language_info": {
   "codemirror_mode": {
    "name": "ipython",
    "version": 3
   },
   "file_extension": ".py",
   "mimetype": "text/x-python",
   "name": "python",
   "nbconvert_exporter": "python",
   "pygments_lexer": "ipython3",
   "version": "3.9.6"
  }
 },
 "nbformat": 4,
 "nbformat_minor": 4
}
